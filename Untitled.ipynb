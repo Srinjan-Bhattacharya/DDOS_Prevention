{
 "cells": [
  {
   "cell_type": "markdown",
   "metadata": {},
   "source": [
    "## Dataset handelling"
   ]
  },
  {
   "cell_type": "code",
   "execution_count": 1,
   "metadata": {},
   "outputs": [],
   "source": [
    "import pandas as pd"
   ]
  },
  {
   "cell_type": "code",
   "execution_count": 2,
   "metadata": {},
   "outputs": [],
   "source": [
    "df=pd.read_csv(\"dataset.csv\")"
   ]
  },
  {
   "cell_type": "code",
   "execution_count": 3,
   "metadata": {},
   "outputs": [
    {
     "data": {
      "text/plain": [
       "(2667523, 22)"
      ]
     },
     "execution_count": 3,
     "metadata": {},
     "output_type": "execute_result"
    }
   ],
   "source": [
    "df.shape"
   ]
  },
  {
   "cell_type": "markdown",
   "metadata": {},
   "source": [
    "## label column is represention where 0 represents Normaltraffic and 1 represents Ddos traffic"
   ]
  },
  {
   "cell_type": "code",
   "execution_count": 4,
   "metadata": {},
   "outputs": [
    {
     "data": {
      "text/plain": [
       "1    1760670\n",
       "0     906853\n",
       "Name: label, dtype: int64"
      ]
     },
     "execution_count": 4,
     "metadata": {},
     "output_type": "execute_result"
    }
   ],
   "source": [
    "df[\"label\"].value_counts()"
   ]
  },
  {
   "cell_type": "markdown",
   "metadata": {},
   "source": [
    "###### now let us consider the dataset of sample 400000 rows where the dataset is completly balanced with 50% of rows are labeled 1 and 50% data are labeled 0"
   ]
  },
  {
   "cell_type": "code",
   "execution_count": 5,
   "metadata": {},
   "outputs": [],
   "source": [
    "xsample=df[df[\"label\"]==0].sample(n=200000)\n",
    "df=pd.concat([xsample,df[df[\"label\"]==1].sample(200000)],axis=0)"
   ]
  },
  {
   "cell_type": "code",
   "execution_count": 6,
   "metadata": {},
   "outputs": [
    {
     "data": {
      "text/html": [
       "<div>\n",
       "<style scoped>\n",
       "    .dataframe tbody tr th:only-of-type {\n",
       "        vertical-align: middle;\n",
       "    }\n",
       "\n",
       "    .dataframe tbody tr th {\n",
       "        vertical-align: top;\n",
       "    }\n",
       "\n",
       "    .dataframe thead th {\n",
       "        text-align: right;\n",
       "    }\n",
       "</style>\n",
       "<table border=\"1\" class=\"dataframe\">\n",
       "  <thead>\n",
       "    <tr style=\"text-align: right;\">\n",
       "      <th></th>\n",
       "      <th>timestamp</th>\n",
       "      <th>datapath_id</th>\n",
       "      <th>flow_id</th>\n",
       "      <th>ip_src</th>\n",
       "      <th>tp_src</th>\n",
       "      <th>ip_dst</th>\n",
       "      <th>tp_dst</th>\n",
       "      <th>ip_proto</th>\n",
       "      <th>icmp_code</th>\n",
       "      <th>icmp_type</th>\n",
       "      <th>...</th>\n",
       "      <th>idle_timeout</th>\n",
       "      <th>hard_timeout</th>\n",
       "      <th>flags</th>\n",
       "      <th>packet_count</th>\n",
       "      <th>byte_count</th>\n",
       "      <th>packet_count_per_second</th>\n",
       "      <th>packet_count_per_nsecond</th>\n",
       "      <th>byte_count_per_second</th>\n",
       "      <th>byte_count_per_nsecond</th>\n",
       "      <th>label</th>\n",
       "    </tr>\n",
       "  </thead>\n",
       "  <tbody>\n",
       "    <tr>\n",
       "      <th>2429265</th>\n",
       "      <td>1.590105e+09</td>\n",
       "      <td>1</td>\n",
       "      <td>10.0.0.133876410.0.0.1505117</td>\n",
       "      <td>10.0.0.13</td>\n",
       "      <td>38764</td>\n",
       "      <td>10.0.0.1</td>\n",
       "      <td>5051</td>\n",
       "      <td>17</td>\n",
       "      <td>0</td>\n",
       "      <td>0</td>\n",
       "      <td>...</td>\n",
       "      <td>20</td>\n",
       "      <td>100</td>\n",
       "      <td>0</td>\n",
       "      <td>893</td>\n",
       "      <td>1350216</td>\n",
       "      <td>81.181818</td>\n",
       "      <td>1.558464e-06</td>\n",
       "      <td>122746.909091</td>\n",
       "      <td>0.002356</td>\n",
       "      <td>0</td>\n",
       "    </tr>\n",
       "    <tr>\n",
       "      <th>1692050</th>\n",
       "      <td>1.590014e+09</td>\n",
       "      <td>2</td>\n",
       "      <td>10.0.0.85667110.0.0.450511</td>\n",
       "      <td>10.0.0.8</td>\n",
       "      <td>56671</td>\n",
       "      <td>10.0.0.4</td>\n",
       "      <td>5051</td>\n",
       "      <td>1</td>\n",
       "      <td>0</td>\n",
       "      <td>8</td>\n",
       "      <td>...</td>\n",
       "      <td>20</td>\n",
       "      <td>100</td>\n",
       "      <td>0</td>\n",
       "      <td>16</td>\n",
       "      <td>1568</td>\n",
       "      <td>1.000000</td>\n",
       "      <td>2.253521e-08</td>\n",
       "      <td>98.000000</td>\n",
       "      <td>0.000002</td>\n",
       "      <td>0</td>\n",
       "    </tr>\n",
       "    <tr>\n",
       "      <th>1814101</th>\n",
       "      <td>1.590044e+09</td>\n",
       "      <td>3</td>\n",
       "      <td>10.0.0.94048010.0.0.550511</td>\n",
       "      <td>10.0.0.9</td>\n",
       "      <td>40480</td>\n",
       "      <td>10.0.0.5</td>\n",
       "      <td>5051</td>\n",
       "      <td>1</td>\n",
       "      <td>0</td>\n",
       "      <td>0</td>\n",
       "      <td>...</td>\n",
       "      <td>20</td>\n",
       "      <td>100</td>\n",
       "      <td>0</td>\n",
       "      <td>68</td>\n",
       "      <td>6664</td>\n",
       "      <td>0.985507</td>\n",
       "      <td>1.725888e-07</td>\n",
       "      <td>96.579710</td>\n",
       "      <td>0.000017</td>\n",
       "      <td>0</td>\n",
       "    </tr>\n",
       "    <tr>\n",
       "      <th>26676</th>\n",
       "      <td>1.589939e+09</td>\n",
       "      <td>1</td>\n",
       "      <td>10.0.0.1505110.0.0.114264017</td>\n",
       "      <td>10.0.0.1</td>\n",
       "      <td>5051</td>\n",
       "      <td>10.0.0.11</td>\n",
       "      <td>42640</td>\n",
       "      <td>17</td>\n",
       "      <td>-1</td>\n",
       "      <td>-1</td>\n",
       "      <td>...</td>\n",
       "      <td>20</td>\n",
       "      <td>100</td>\n",
       "      <td>0</td>\n",
       "      <td>0</td>\n",
       "      <td>0</td>\n",
       "      <td>0.000000</td>\n",
       "      <td>0.000000e+00</td>\n",
       "      <td>0.000000</td>\n",
       "      <td>0.000000</td>\n",
       "      <td>0</td>\n",
       "    </tr>\n",
       "    <tr>\n",
       "      <th>2442252</th>\n",
       "      <td>1.590108e+09</td>\n",
       "      <td>1</td>\n",
       "      <td>10.0.0.18010.0.0.5532526</td>\n",
       "      <td>10.0.0.1</td>\n",
       "      <td>80</td>\n",
       "      <td>10.0.0.5</td>\n",
       "      <td>53252</td>\n",
       "      <td>6</td>\n",
       "      <td>-1</td>\n",
       "      <td>-1</td>\n",
       "      <td>...</td>\n",
       "      <td>20</td>\n",
       "      <td>100</td>\n",
       "      <td>0</td>\n",
       "      <td>4</td>\n",
       "      <td>584</td>\n",
       "      <td>0.400000</td>\n",
       "      <td>1.081081e-08</td>\n",
       "      <td>58.400000</td>\n",
       "      <td>0.000002</td>\n",
       "      <td>0</td>\n",
       "    </tr>\n",
       "  </tbody>\n",
       "</table>\n",
       "<p>5 rows × 22 columns</p>\n",
       "</div>"
      ],
      "text/plain": [
       "            timestamp  datapath_id                       flow_id     ip_src  \\\n",
       "2429265  1.590105e+09            1  10.0.0.133876410.0.0.1505117  10.0.0.13   \n",
       "1692050  1.590014e+09            2    10.0.0.85667110.0.0.450511   10.0.0.8   \n",
       "1814101  1.590044e+09            3    10.0.0.94048010.0.0.550511   10.0.0.9   \n",
       "26676    1.589939e+09            1  10.0.0.1505110.0.0.114264017   10.0.0.1   \n",
       "2442252  1.590108e+09            1      10.0.0.18010.0.0.5532526   10.0.0.1   \n",
       "\n",
       "         tp_src     ip_dst  tp_dst  ip_proto  icmp_code  icmp_type  ...  \\\n",
       "2429265   38764   10.0.0.1    5051        17          0          0  ...   \n",
       "1692050   56671   10.0.0.4    5051         1          0          8  ...   \n",
       "1814101   40480   10.0.0.5    5051         1          0          0  ...   \n",
       "26676      5051  10.0.0.11   42640        17         -1         -1  ...   \n",
       "2442252      80   10.0.0.5   53252         6         -1         -1  ...   \n",
       "\n",
       "         idle_timeout  hard_timeout  flags  packet_count  byte_count  \\\n",
       "2429265            20           100      0           893     1350216   \n",
       "1692050            20           100      0            16        1568   \n",
       "1814101            20           100      0            68        6664   \n",
       "26676              20           100      0             0           0   \n",
       "2442252            20           100      0             4         584   \n",
       "\n",
       "         packet_count_per_second  packet_count_per_nsecond  \\\n",
       "2429265                81.181818              1.558464e-06   \n",
       "1692050                 1.000000              2.253521e-08   \n",
       "1814101                 0.985507              1.725888e-07   \n",
       "26676                   0.000000              0.000000e+00   \n",
       "2442252                 0.400000              1.081081e-08   \n",
       "\n",
       "         byte_count_per_second  byte_count_per_nsecond  label  \n",
       "2429265          122746.909091                0.002356      0  \n",
       "1692050              98.000000                0.000002      0  \n",
       "1814101              96.579710                0.000017      0  \n",
       "26676                 0.000000                0.000000      0  \n",
       "2442252              58.400000                0.000002      0  \n",
       "\n",
       "[5 rows x 22 columns]"
      ]
     },
     "execution_count": 6,
     "metadata": {},
     "output_type": "execute_result"
    }
   ],
   "source": [
    "df.head()"
   ]
  },
  {
   "cell_type": "code",
   "execution_count": 7,
   "metadata": {},
   "outputs": [],
   "source": [
    "df.iloc[:,2] = df.iloc[:,2].str.replace(\".\",\"\")\n",
    "df.iloc[:,3] = df.iloc[:,3].str.replace(\".\",\"\")\n",
    "df.iloc[:,5] = df.iloc[:,5].str.replace(\".\",\"\")"
   ]
  },
  {
   "cell_type": "code",
   "execution_count": 34,
   "metadata": {},
   "outputs": [
    {
     "data": {
      "text/html": [
       "<div>\n",
       "<style scoped>\n",
       "    .dataframe tbody tr th:only-of-type {\n",
       "        vertical-align: middle;\n",
       "    }\n",
       "\n",
       "    .dataframe tbody tr th {\n",
       "        vertical-align: top;\n",
       "    }\n",
       "\n",
       "    .dataframe thead th {\n",
       "        text-align: right;\n",
       "    }\n",
       "</style>\n",
       "<table border=\"1\" class=\"dataframe\">\n",
       "  <thead>\n",
       "    <tr style=\"text-align: right;\">\n",
       "      <th></th>\n",
       "      <th>timestamp</th>\n",
       "      <th>datapath_id</th>\n",
       "      <th>flow_id</th>\n",
       "      <th>ip_src</th>\n",
       "      <th>tp_src</th>\n",
       "      <th>ip_dst</th>\n",
       "      <th>tp_dst</th>\n",
       "      <th>ip_proto</th>\n",
       "      <th>icmp_code</th>\n",
       "      <th>icmp_type</th>\n",
       "      <th>...</th>\n",
       "      <th>idle_timeout</th>\n",
       "      <th>hard_timeout</th>\n",
       "      <th>flags</th>\n",
       "      <th>packet_count</th>\n",
       "      <th>byte_count</th>\n",
       "      <th>packet_count_per_second</th>\n",
       "      <th>packet_count_per_nsecond</th>\n",
       "      <th>byte_count_per_second</th>\n",
       "      <th>byte_count_per_nsecond</th>\n",
       "      <th>label</th>\n",
       "    </tr>\n",
       "  </thead>\n",
       "  <tbody>\n",
       "    <tr>\n",
       "      <th>2429265</th>\n",
       "      <td>1.590105e+09</td>\n",
       "      <td>1</td>\n",
       "      <td>1000133876410001505117</td>\n",
       "      <td>100013</td>\n",
       "      <td>38764</td>\n",
       "      <td>10001</td>\n",
       "      <td>5051</td>\n",
       "      <td>17</td>\n",
       "      <td>0</td>\n",
       "      <td>0</td>\n",
       "      <td>...</td>\n",
       "      <td>20</td>\n",
       "      <td>100</td>\n",
       "      <td>0</td>\n",
       "      <td>893</td>\n",
       "      <td>1350216</td>\n",
       "      <td>81.181818</td>\n",
       "      <td>1.558464e-06</td>\n",
       "      <td>122746.909091</td>\n",
       "      <td>0.002356</td>\n",
       "      <td>0</td>\n",
       "    </tr>\n",
       "    <tr>\n",
       "      <th>1692050</th>\n",
       "      <td>1.590014e+09</td>\n",
       "      <td>2</td>\n",
       "      <td>10008566711000450511</td>\n",
       "      <td>10008</td>\n",
       "      <td>56671</td>\n",
       "      <td>10004</td>\n",
       "      <td>5051</td>\n",
       "      <td>1</td>\n",
       "      <td>0</td>\n",
       "      <td>8</td>\n",
       "      <td>...</td>\n",
       "      <td>20</td>\n",
       "      <td>100</td>\n",
       "      <td>0</td>\n",
       "      <td>16</td>\n",
       "      <td>1568</td>\n",
       "      <td>1.000000</td>\n",
       "      <td>2.253521e-08</td>\n",
       "      <td>98.000000</td>\n",
       "      <td>0.000002</td>\n",
       "      <td>0</td>\n",
       "    </tr>\n",
       "    <tr>\n",
       "      <th>1814101</th>\n",
       "      <td>1.590044e+09</td>\n",
       "      <td>3</td>\n",
       "      <td>10009404801000550511</td>\n",
       "      <td>10009</td>\n",
       "      <td>40480</td>\n",
       "      <td>10005</td>\n",
       "      <td>5051</td>\n",
       "      <td>1</td>\n",
       "      <td>0</td>\n",
       "      <td>0</td>\n",
       "      <td>...</td>\n",
       "      <td>20</td>\n",
       "      <td>100</td>\n",
       "      <td>0</td>\n",
       "      <td>68</td>\n",
       "      <td>6664</td>\n",
       "      <td>0.985507</td>\n",
       "      <td>1.725888e-07</td>\n",
       "      <td>96.579710</td>\n",
       "      <td>0.000017</td>\n",
       "      <td>0</td>\n",
       "    </tr>\n",
       "    <tr>\n",
       "      <th>26676</th>\n",
       "      <td>1.589939e+09</td>\n",
       "      <td>1</td>\n",
       "      <td>1000150511000114264017</td>\n",
       "      <td>10001</td>\n",
       "      <td>5051</td>\n",
       "      <td>100011</td>\n",
       "      <td>42640</td>\n",
       "      <td>17</td>\n",
       "      <td>-1</td>\n",
       "      <td>-1</td>\n",
       "      <td>...</td>\n",
       "      <td>20</td>\n",
       "      <td>100</td>\n",
       "      <td>0</td>\n",
       "      <td>0</td>\n",
       "      <td>0</td>\n",
       "      <td>0.000000</td>\n",
       "      <td>0.000000e+00</td>\n",
       "      <td>0.000000</td>\n",
       "      <td>0.000000</td>\n",
       "      <td>0</td>\n",
       "    </tr>\n",
       "    <tr>\n",
       "      <th>2442252</th>\n",
       "      <td>1.590108e+09</td>\n",
       "      <td>1</td>\n",
       "      <td>100018010005532526</td>\n",
       "      <td>10001</td>\n",
       "      <td>80</td>\n",
       "      <td>10005</td>\n",
       "      <td>53252</td>\n",
       "      <td>6</td>\n",
       "      <td>-1</td>\n",
       "      <td>-1</td>\n",
       "      <td>...</td>\n",
       "      <td>20</td>\n",
       "      <td>100</td>\n",
       "      <td>0</td>\n",
       "      <td>4</td>\n",
       "      <td>584</td>\n",
       "      <td>0.400000</td>\n",
       "      <td>1.081081e-08</td>\n",
       "      <td>58.400000</td>\n",
       "      <td>0.000002</td>\n",
       "      <td>0</td>\n",
       "    </tr>\n",
       "  </tbody>\n",
       "</table>\n",
       "<p>5 rows × 22 columns</p>\n",
       "</div>"
      ],
      "text/plain": [
       "            timestamp  datapath_id                 flow_id  ip_src  tp_src  \\\n",
       "2429265  1.590105e+09            1  1000133876410001505117  100013   38764   \n",
       "1692050  1.590014e+09            2    10008566711000450511   10008   56671   \n",
       "1814101  1.590044e+09            3    10009404801000550511   10009   40480   \n",
       "26676    1.589939e+09            1  1000150511000114264017   10001    5051   \n",
       "2442252  1.590108e+09            1      100018010005532526   10001      80   \n",
       "\n",
       "         ip_dst  tp_dst  ip_proto  icmp_code  icmp_type  ...  idle_timeout  \\\n",
       "2429265   10001    5051        17          0          0  ...            20   \n",
       "1692050   10004    5051         1          0          8  ...            20   \n",
       "1814101   10005    5051         1          0          0  ...            20   \n",
       "26676    100011   42640        17         -1         -1  ...            20   \n",
       "2442252   10005   53252         6         -1         -1  ...            20   \n",
       "\n",
       "         hard_timeout  flags  packet_count  byte_count  \\\n",
       "2429265           100      0           893     1350216   \n",
       "1692050           100      0            16        1568   \n",
       "1814101           100      0            68        6664   \n",
       "26676             100      0             0           0   \n",
       "2442252           100      0             4         584   \n",
       "\n",
       "         packet_count_per_second  packet_count_per_nsecond  \\\n",
       "2429265                81.181818              1.558464e-06   \n",
       "1692050                 1.000000              2.253521e-08   \n",
       "1814101                 0.985507              1.725888e-07   \n",
       "26676                   0.000000              0.000000e+00   \n",
       "2442252                 0.400000              1.081081e-08   \n",
       "\n",
       "         byte_count_per_second  byte_count_per_nsecond  label  \n",
       "2429265          122746.909091                0.002356      0  \n",
       "1692050              98.000000                0.000002      0  \n",
       "1814101              96.579710                0.000017      0  \n",
       "26676                 0.000000                0.000000      0  \n",
       "2442252              58.400000                0.000002      0  \n",
       "\n",
       "[5 rows x 22 columns]"
      ]
     },
     "execution_count": 34,
     "metadata": {},
     "output_type": "execute_result"
    }
   ],
   "source": [
    "df.head()"
   ]
  },
  {
   "cell_type": "code",
   "execution_count": 8,
   "metadata": {},
   "outputs": [],
   "source": [
    "X = df.iloc[:,:-1].values\n",
    "X = X.astype('float64')\n",
    "Y = df.iloc[:,-1].values"
   ]
  },
  {
   "cell_type": "markdown",
   "metadata": {},
   "source": [
    "##### spliting the datasets into train and test splits"
   ]
  },
  {
   "cell_type": "code",
   "execution_count": 9,
   "metadata": {},
   "outputs": [],
   "source": [
    "from sklearn.model_selection import train_test_split\n",
    "xtrain,xtest,ytrain,ytest = train_test_split(X,Y,test_size=0.25,random_state=20)"
   ]
  },
  {
   "cell_type": "markdown",
   "metadata": {},
   "source": [
    "### Importing sklearn models"
   ]
  },
  {
   "cell_type": "markdown",
   "metadata": {},
   "source": [
    "#### models in base paper"
   ]
  },
  {
   "cell_type": "code",
   "execution_count": 10,
   "metadata": {},
   "outputs": [],
   "source": [
    "from sklearn.naive_bayes import GaussianNB\n",
    "from sklearn.cluster import KMeans\n",
    "from sklearn.ensemble import RandomForestClassifier"
   ]
  },
  {
   "cell_type": "code",
   "execution_count": 11,
   "metadata": {},
   "outputs": [],
   "source": [
    "naive = GaussianNB()"
   ]
  },
  {
   "cell_type": "code",
   "execution_count": 12,
   "metadata": {},
   "outputs": [
    {
     "data": {
      "text/plain": [
       "GaussianNB()"
      ]
     },
     "execution_count": 12,
     "metadata": {},
     "output_type": "execute_result"
    }
   ],
   "source": [
    "naive.fit(xtrain,ytrain)"
   ]
  },
  {
   "cell_type": "code",
   "execution_count": 13,
   "metadata": {},
   "outputs": [],
   "source": [
    "kmean = KMeans()"
   ]
  },
  {
   "cell_type": "code",
   "execution_count": 14,
   "metadata": {},
   "outputs": [
    {
     "data": {
      "text/plain": [
       "KMeans()"
      ]
     },
     "execution_count": 14,
     "metadata": {},
     "output_type": "execute_result"
    }
   ],
   "source": [
    "kmean.fit(xtrain,ytrain)"
   ]
  },
  {
   "cell_type": "code",
   "execution_count": 15,
   "metadata": {},
   "outputs": [],
   "source": [
    "RFC = RandomForestClassifier(criterion=\"entropy\")"
   ]
  },
  {
   "cell_type": "code",
   "execution_count": 16,
   "metadata": {},
   "outputs": [
    {
     "data": {
      "text/plain": [
       "RandomForestClassifier(criterion='entropy')"
      ]
     },
     "execution_count": 16,
     "metadata": {},
     "output_type": "execute_result"
    }
   ],
   "source": [
    "RFC.fit(xtrain,ytrain)"
   ]
  },
  {
   "cell_type": "code",
   "execution_count": 17,
   "metadata": {},
   "outputs": [],
   "source": [
    "models1=[naive,kmean,RFC]\n",
    "models=[\"Naive Bayes\" , \"K-Means Clustering\" , \"Random Forest Classifier\"]\n",
    "bestaccuracy = 0\n",
    "best_classifier = \"\""
   ]
  },
  {
   "cell_type": "code",
   "execution_count": 18,
   "metadata": {},
   "outputs": [],
   "source": [
    "from sklearn.metrics import plot_confusion_matrix\n",
    "from sklearn.metrics import classification_report\n",
    "from colorama import Fore,Back\n",
    "import matplotlib.pyplot as plt\n"
   ]
  },
  {
   "cell_type": "code",
   "execution_count": 19,
   "metadata": {},
   "outputs": [
    {
     "name": "stdout",
     "output_type": "stream",
     "text": [
      "\u001b[43mNaive Bayes\n",
      "\u001b[49m\n",
      "              precision    recall  f1-score   support\n",
      "\n",
      "           0       0.70      1.00      0.82     50078\n",
      "           1       1.00      0.56      0.72     49922\n",
      "\n",
      "    accuracy                           0.78    100000\n",
      "   macro avg       0.85      0.78      0.77    100000\n",
      "weighted avg       0.85      0.78      0.77    100000\n",
      "\n",
      "\u001b[43mK-Means Clustering\n",
      "\u001b[49m\n"
     ]
    },
    {
     "name": "stderr",
     "output_type": "stream",
     "text": [
      "C:\\Users\\rakes\\anaconda3\\lib\\site-packages\\sklearn\\metrics\\_classification.py:1221: UndefinedMetricWarning: Recall and F-score are ill-defined and being set to 0.0 in labels with no true samples. Use `zero_division` parameter to control this behavior.\n",
      "  _warn_prf(average, modifier, msg_start, len(result))\n"
     ]
    },
    {
     "name": "stdout",
     "output_type": "stream",
     "text": [
      "              precision    recall  f1-score   support\n",
      "\n",
      "           0       0.59      1.00      0.74     50078\n",
      "           1       1.00      0.02      0.04     49922\n",
      "           2       0.00      0.00      0.00         0\n",
      "           3       0.00      0.00      0.00         0\n",
      "           4       0.00      0.00      0.00         0\n",
      "           5       0.00      0.00      0.00         0\n",
      "           6       0.00      0.00      0.00         0\n",
      "           7       0.00      0.00      0.00         0\n",
      "\n",
      "    accuracy                           0.51    100000\n",
      "   macro avg       0.20      0.13      0.10    100000\n",
      "weighted avg       0.79      0.51      0.39    100000\n",
      "\n",
      "\u001b[43mRandom Forest Classifier\n",
      "\u001b[49m\n",
      "              precision    recall  f1-score   support\n",
      "\n",
      "           0       1.00      1.00      1.00     50078\n",
      "           1       1.00      1.00      1.00     49922\n",
      "\n",
      "    accuracy                           1.00    100000\n",
      "   macro avg       1.00      1.00      1.00    100000\n",
      "weighted avg       1.00      1.00      1.00    100000\n",
      "\n"
     ]
    }
   ],
   "source": [
    "j=0\n",
    "for i in models1:\n",
    "    print(f'{Back.YELLOW}{models[j]}')\n",
    "    print(Back.RESET)\n",
    "    j=j+1\n",
    "    ypred = i.predict(xtest)\n",
    "    score = classification_report(ytest,ypred)\n",
    "    print(score)\n",
    "    #print(f'{Fore.RED} Accuracy = {score}%')\n",
    "    #print(Fore.RESET)\n",
    "#     if bestaccuracy < score:\n",
    "#         bestaccuracy = score\n",
    "#         best_classifier = models[j-1] "
   ]
  },
  {
   "cell_type": "markdown",
   "metadata": {},
   "source": [
    "## Working additional ensembling techniques"
   ]
  },
  {
   "cell_type": "code",
   "execution_count": 22,
   "metadata": {},
   "outputs": [],
   "source": [
    "from sklearn.ensemble import ExtraTreesClassifier\n",
    "etc = ExtraTreesClassifier(n_estimators=10, max_depth=None,min_samples_split=2, random_state=0).fit(xtrain,ytrain)"
   ]
  },
  {
   "cell_type": "code",
   "execution_count": 23,
   "metadata": {},
   "outputs": [
    {
     "data": {
      "text/plain": [
       "AdaBoostClassifier(n_estimators=100)"
      ]
     },
     "execution_count": 23,
     "metadata": {},
     "output_type": "execute_result"
    }
   ],
   "source": [
    "from sklearn.ensemble import AdaBoostClassifier\n",
    "adb = AdaBoostClassifier(n_estimators = 100)\n",
    "adb.fit(xtrain,ytrain)"
   ]
  },
  {
   "cell_type": "code",
   "execution_count": 24,
   "metadata": {},
   "outputs": [],
   "source": [
    "from sklearn.ensemble import GradientBoostingClassifier\n",
    "gbc = GradientBoostingClassifier(n_estimators=100, learning_rate=1.0, max_depth=1, random_state=0).fit(xtrain, ytrain)"
   ]
  },
  {
   "cell_type": "code",
   "execution_count": 25,
   "metadata": {},
   "outputs": [
    {
     "data": {
      "text/plain": [
       "DecisionTreeClassifier()"
      ]
     },
     "execution_count": 25,
     "metadata": {},
     "output_type": "execute_result"
    }
   ],
   "source": [
    "from sklearn.tree import DecisionTreeClassifier\n",
    "dt = DecisionTreeClassifier()\n",
    "dt.fit(xtrain,ytrain)"
   ]
  },
  {
   "cell_type": "code",
   "execution_count": 26,
   "metadata": {},
   "outputs": [],
   "source": [
    "models1=[etc,adb,gbc,dt,RFC]\n",
    "models=[\"ExtraTreesClassifier\" , \"AdaBoostClassifier\" , \"GradientBoostingClassifier\",\"Decision Tree Classifier\" ,\"Random Forest Classifier\"]"
   ]
  },
  {
   "cell_type": "code",
   "execution_count": 27,
   "metadata": {},
   "outputs": [
    {
     "name": "stdout",
     "output_type": "stream",
     "text": [
      "\n",
      "\u001b[43mExtraTreesClassifier\n",
      "\u001b[49m\n",
      "\u001b[41m              precision    recall  f1-score   support\n",
      "\n",
      "           0       1.00      1.00      1.00     50078\n",
      "           1       1.00      1.00      1.00     49922\n",
      "\n",
      "    accuracy                           1.00    100000\n",
      "   macro avg       1.00      1.00      1.00    100000\n",
      "weighted avg       1.00      1.00      1.00    100000\n",
      "\n",
      "\u001b[49m\n",
      "\n",
      "\u001b[43mAdaBoostClassifier\n",
      "\u001b[49m\n",
      "\u001b[41m              precision    recall  f1-score   support\n",
      "\n",
      "           0       1.00      1.00      1.00     50078\n",
      "           1       1.00      1.00      1.00     49922\n",
      "\n",
      "    accuracy                           1.00    100000\n",
      "   macro avg       1.00      1.00      1.00    100000\n",
      "weighted avg       1.00      1.00      1.00    100000\n",
      "\n",
      "\u001b[49m\n",
      "\n",
      "\u001b[43mGradientBoostingClassifier\n",
      "\u001b[49m\n",
      "\u001b[41m              precision    recall  f1-score   support\n",
      "\n",
      "           0       1.00      1.00      1.00     50078\n",
      "           1       1.00      1.00      1.00     49922\n",
      "\n",
      "    accuracy                           1.00    100000\n",
      "   macro avg       1.00      1.00      1.00    100000\n",
      "weighted avg       1.00      1.00      1.00    100000\n",
      "\n",
      "\u001b[49m\n",
      "\n",
      "\u001b[43mDecision Tree Classifier\n",
      "\u001b[49m\n",
      "\u001b[41m              precision    recall  f1-score   support\n",
      "\n",
      "           0       1.00      1.00      1.00     50078\n",
      "           1       1.00      1.00      1.00     49922\n",
      "\n",
      "    accuracy                           1.00    100000\n",
      "   macro avg       1.00      1.00      1.00    100000\n",
      "weighted avg       1.00      1.00      1.00    100000\n",
      "\n",
      "\u001b[49m\n",
      "\n",
      "\u001b[43mRandom Forest Classifier\n",
      "\u001b[49m\n",
      "\u001b[41m              precision    recall  f1-score   support\n",
      "\n",
      "           0       1.00      1.00      1.00     50078\n",
      "           1       1.00      1.00      1.00     49922\n",
      "\n",
      "    accuracy                           1.00    100000\n",
      "   macro avg       1.00      1.00      1.00    100000\n",
      "weighted avg       1.00      1.00      1.00    100000\n",
      "\n",
      "\u001b[49m\n"
     ]
    }
   ],
   "source": [
    "j=0\n",
    "for i in models1:\n",
    "    print()\n",
    "    print(f'{Back.YELLOW}{models[j]}')\n",
    "    print(Back.RESET)\n",
    "    j=j+1\n",
    "    ypred = i.predict(xtest)\n",
    "    score = classification_report(ytest,ypred)\n",
    "    print(f'{Back.RED}{score}')\n",
    "    print(Back.RESET)\n",
    "#     print(f'{Fore.RED} Accuracy = {score}%')\n",
    "#     print(Fore.RESET)"
   ]
  },
  {
   "cell_type": "code",
   "execution_count": 28,
   "metadata": {
    "scrolled": false
   },
   "outputs": [
    {
     "name": "stdout",
     "output_type": "stream",
     "text": [
      "\n",
      "\u001b[43mExtraTreesClassifier\n",
      "\u001b[49m\n",
      "ExtraTreesClassifier\n",
      "[[50077     1]\n",
      " [    3 49919]]\n",
      "\n",
      "\u001b[43mAdaBoostClassifier\n",
      "\u001b[49m\n",
      "AdaBoostClassifier\n",
      "[[50078     0]\n",
      " [    0 49922]]\n",
      "\n",
      "\u001b[43mGradientBoostingClassifier\n",
      "\u001b[49m\n",
      "GradientBoostingClassifier\n",
      "[[50078     0]\n",
      " [    6 49916]]\n",
      "\n",
      "\u001b[43mDecision Tree Classifier\n",
      "\u001b[49m\n",
      "Decision Tree Classifier\n",
      "[[50078     0]\n",
      " [    1 49921]]\n",
      "\n",
      "\u001b[43mRandom Forest Classifier\n",
      "\u001b[49m\n",
      "Random Forest Classifier\n",
      "[[50078     0]\n",
      " [    0 49922]]\n"
     ]
    },
    {
     "data": {
      "image/png": "[encoded data removed]",
      "text/plain": [
       "<Figure size 432x288 with 2 Axes>"
      ]
     },
     "metadata": {
      "needs_background": "light"
     },
     "output_type": "display_data"
    },
    {
     "data": {
      "image/png": "[encoded data removed]",
      "text/plain": [
       "<Figure size 432x288 with 2 Axes>"
      ]
     },
     "metadata": {
      "needs_background": "light"
     },
     "output_type": "display_data"
    },
    {
     "data": {
      "image/png": "[encoded data removed]",
      "text/plain": [
       "<Figure size 432x288 with 2 Axes>"
      ]
     },
     "metadata": {
      "needs_background": "light"
     },
     "output_type": "display_data"
    },
    {
     "data": {
      "image/png": "[encoded data removed]",
      "text/plain": [
       "<Figure size 432x288 with 2 Axes>"
      ]
     },
     "metadata": {
      "needs_background": "light"
     },
     "output_type": "display_data"
    },
    {
     "data": {
      "image/png": "[encoded data removed]",
      "text/plain": [
       "<Figure size 432x288 with 2 Axes>"
      ]
     },
     "metadata": {
      "needs_background": "light"
     },
     "output_type": "display_data"
    }
   ],
   "source": [
    "j=0\n",
    "for i in models1:\n",
    "    print()\n",
    "    print(f'{Back.YELLOW}{models[j]}')\n",
    "    print(Back.RESET)\n",
    "    j=j+1\n",
    "#     ypred = i.predict(xtest)\n",
    "#     score = accuracy_score(ytest,ypred)*100\n",
    "#     print(f'{Fore.RED} Accuracy = {score}%')\n",
    "#     print(Fore.RESET)\n",
    "    disp = plot_confusion_matrix(i, xtest, ytest,\n",
    "                                 display_labels=[0,1],\n",
    "                                 cmap=plt.cm.Blues,\n",
    "                                 normalize=None)\n",
    "    disp.ax_.set_title(models[j-1])\n",
    "    print(models[j-1])\n",
    "    print(disp.confusion_matrix)"
   ]
  },
  {
   "cell_type": "code",
   "execution_count": null,
   "metadata": {},
   "outputs": [],
   "source": []
  }
 ],
 "metadata": {
  "kernelspec": {
   "display_name": "Python 3",
   "language": "python",
   "name": "python3"
  },
  "language_info": {
   "codemirror_mode": {
    "name": "ipython",
    "version": 3
   },
   "file_extension": ".py",
   "mimetype": "text/x-python",
   "name": "python",
   "nbconvert_exporter": "python",
   "pygments_lexer": "ipython3",
   "version": "3.8.5"
  }
 },
 "nbformat": 4,
 "nbformat_minor": 4
}
