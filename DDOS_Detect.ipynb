{
 "cells": [
  {
   "cell_type": "code",
   "execution_count": 1,
   "metadata": {},
   "outputs": [],
   "source": [
    "import pandas as pd"
   ]
  },
  {
   "cell_type": "code",
   "execution_count": 2,
   "metadata": {},
   "outputs": [],
   "source": [
    "df = pd.read_csv('Ddos.csv')"
   ]
  },
  {
   "cell_type": "code",
   "execution_count": 3,
   "metadata": {},
   "outputs": [
    {
     "data": {
      "text/html": [
       "<div>\n",
       "<style scoped>\n",
       "    .dataframe tbody tr th:only-of-type {\n",
       "        vertical-align: middle;\n",
       "    }\n",
       "\n",
       "    .dataframe tbody tr th {\n",
       "        vertical-align: top;\n",
       "    }\n",
       "\n",
       "    .dataframe thead th {\n",
       "        text-align: right;\n",
       "    }\n",
       "</style>\n",
       "<table border=\"1\" class=\"dataframe\">\n",
       "  <thead>\n",
       "    <tr style=\"text-align: right;\">\n",
       "      <th></th>\n",
       "      <th>Unnamed: 0</th>\n",
       "      <th>SRC_ADD</th>\n",
       "      <th>DES_ADD</th>\n",
       "      <th>PKT_ID</th>\n",
       "      <th>FROM_NODE</th>\n",
       "      <th>TO_NODE</th>\n",
       "      <th>PKT_TYPE</th>\n",
       "      <th>PKT_SIZE</th>\n",
       "      <th>FLAGS</th>\n",
       "      <th>FID</th>\n",
       "      <th>...</th>\n",
       "      <th>PKT_RATE</th>\n",
       "      <th>BYTE_RATE</th>\n",
       "      <th>PKT_AVG_SIZE</th>\n",
       "      <th>UTILIZATION</th>\n",
       "      <th>PKT_DELAY</th>\n",
       "      <th>PKT_SEND_TIME</th>\n",
       "      <th>PKT_RESEVED_TIME</th>\n",
       "      <th>FIRST_PKT_SENT</th>\n",
       "      <th>LAST_PKT_RESEVED</th>\n",
       "      <th>PKT_CLASS</th>\n",
       "    </tr>\n",
       "  </thead>\n",
       "  <tbody>\n",
       "    <tr>\n",
       "      <th>0</th>\n",
       "      <td>0</td>\n",
       "      <td>3.00</td>\n",
       "      <td>24.30</td>\n",
       "      <td>389693.0</td>\n",
       "      <td>21.0</td>\n",
       "      <td>23.0</td>\n",
       "      <td>b'tcp'</td>\n",
       "      <td>1540.0</td>\n",
       "      <td>b'-------'</td>\n",
       "      <td>4.0</td>\n",
       "      <td>...</td>\n",
       "      <td>328.240918</td>\n",
       "      <td>505490.0</td>\n",
       "      <td>1540.0</td>\n",
       "      <td>0.236321</td>\n",
       "      <td>0.0</td>\n",
       "      <td>35.519662</td>\n",
       "      <td>35.550032</td>\n",
       "      <td>1.000000</td>\n",
       "      <td>50.021920</td>\n",
       "      <td>b'Normal'</td>\n",
       "    </tr>\n",
       "    <tr>\n",
       "      <th>1</th>\n",
       "      <td>1</td>\n",
       "      <td>15.00</td>\n",
       "      <td>24.15</td>\n",
       "      <td>201196.0</td>\n",
       "      <td>23.0</td>\n",
       "      <td>24.0</td>\n",
       "      <td>b'tcp'</td>\n",
       "      <td>1540.0</td>\n",
       "      <td>b'-------'</td>\n",
       "      <td>16.0</td>\n",
       "      <td>...</td>\n",
       "      <td>328.205808</td>\n",
       "      <td>505437.0</td>\n",
       "      <td>1540.0</td>\n",
       "      <td>0.236337</td>\n",
       "      <td>0.0</td>\n",
       "      <td>20.156478</td>\n",
       "      <td>20.186848</td>\n",
       "      <td>1.000000</td>\n",
       "      <td>50.030211</td>\n",
       "      <td>b'Normal'</td>\n",
       "    </tr>\n",
       "    <tr>\n",
       "      <th>2</th>\n",
       "      <td>2</td>\n",
       "      <td>24.15</td>\n",
       "      <td>15.00</td>\n",
       "      <td>61905.0</td>\n",
       "      <td>23.0</td>\n",
       "      <td>22.0</td>\n",
       "      <td>b'ack'</td>\n",
       "      <td>55.0</td>\n",
       "      <td>b'-------'</td>\n",
       "      <td>16.0</td>\n",
       "      <td>...</td>\n",
       "      <td>328.206042</td>\n",
       "      <td>18051.3</td>\n",
       "      <td>55.0</td>\n",
       "      <td>0.008441</td>\n",
       "      <td>0.0</td>\n",
       "      <td>7.039952</td>\n",
       "      <td>7.069962</td>\n",
       "      <td>1.030045</td>\n",
       "      <td>50.060221</td>\n",
       "      <td>b'UDP-Flood'</td>\n",
       "    </tr>\n",
       "    <tr>\n",
       "      <th>3</th>\n",
       "      <td>3</td>\n",
       "      <td>24.90</td>\n",
       "      <td>9.00</td>\n",
       "      <td>443135.0</td>\n",
       "      <td>23.0</td>\n",
       "      <td>21.0</td>\n",
       "      <td>b'ack'</td>\n",
       "      <td>55.0</td>\n",
       "      <td>b'-------'</td>\n",
       "      <td>10.0</td>\n",
       "      <td>...</td>\n",
       "      <td>328.064183</td>\n",
       "      <td>18043.5</td>\n",
       "      <td>55.0</td>\n",
       "      <td>0.008437</td>\n",
       "      <td>0.0</td>\n",
       "      <td>39.617967</td>\n",
       "      <td>39.647976</td>\n",
       "      <td>1.030058</td>\n",
       "      <td>50.060098</td>\n",
       "      <td>b'Normal'</td>\n",
       "    </tr>\n",
       "    <tr>\n",
       "      <th>4</th>\n",
       "      <td>4</td>\n",
       "      <td>24.80</td>\n",
       "      <td>8.00</td>\n",
       "      <td>157335.0</td>\n",
       "      <td>23.0</td>\n",
       "      <td>21.0</td>\n",
       "      <td>b'ack'</td>\n",
       "      <td>55.0</td>\n",
       "      <td>b'-------'</td>\n",
       "      <td>9.0</td>\n",
       "      <td>...</td>\n",
       "      <td>328.113525</td>\n",
       "      <td>18046.2</td>\n",
       "      <td>55.0</td>\n",
       "      <td>0.008438</td>\n",
       "      <td>0.0</td>\n",
       "      <td>16.029803</td>\n",
       "      <td>16.059813</td>\n",
       "      <td>1.030054</td>\n",
       "      <td>50.061864</td>\n",
       "      <td>b'Normal'</td>\n",
       "    </tr>\n",
       "  </tbody>\n",
       "</table>\n",
       "<p>5 rows × 29 columns</p>\n",
       "</div>"
      ],
      "text/plain": [
       "   Unnamed: 0  SRC_ADD  DES_ADD    PKT_ID  FROM_NODE  TO_NODE PKT_TYPE  \\\n",
       "0           0     3.00    24.30  389693.0       21.0     23.0   b'tcp'   \n",
       "1           1    15.00    24.15  201196.0       23.0     24.0   b'tcp'   \n",
       "2           2    24.15    15.00   61905.0       23.0     22.0   b'ack'   \n",
       "3           3    24.90     9.00  443135.0       23.0     21.0   b'ack'   \n",
       "4           4    24.80     8.00  157335.0       23.0     21.0   b'ack'   \n",
       "\n",
       "   PKT_SIZE       FLAGS   FID  ...    PKT_RATE  BYTE_RATE  PKT_AVG_SIZE  \\\n",
       "0    1540.0  b'-------'   4.0  ...  328.240918   505490.0        1540.0   \n",
       "1    1540.0  b'-------'  16.0  ...  328.205808   505437.0        1540.0   \n",
       "2      55.0  b'-------'  16.0  ...  328.206042    18051.3          55.0   \n",
       "3      55.0  b'-------'  10.0  ...  328.064183    18043.5          55.0   \n",
       "4      55.0  b'-------'   9.0  ...  328.113525    18046.2          55.0   \n",
       "\n",
       "  UTILIZATION PKT_DELAY  PKT_SEND_TIME  PKT_RESEVED_TIME  FIRST_PKT_SENT  \\\n",
       "0    0.236321       0.0      35.519662         35.550032        1.000000   \n",
       "1    0.236337       0.0      20.156478         20.186848        1.000000   \n",
       "2    0.008441       0.0       7.039952          7.069962        1.030045   \n",
       "3    0.008437       0.0      39.617967         39.647976        1.030058   \n",
       "4    0.008438       0.0      16.029803         16.059813        1.030054   \n",
       "\n",
       "   LAST_PKT_RESEVED     PKT_CLASS  \n",
       "0         50.021920     b'Normal'  \n",
       "1         50.030211     b'Normal'  \n",
       "2         50.060221  b'UDP-Flood'  \n",
       "3         50.060098     b'Normal'  \n",
       "4         50.061864     b'Normal'  \n",
       "\n",
       "[5 rows x 29 columns]"
      ]
     },
     "execution_count": 3,
     "metadata": {},
     "output_type": "execute_result"
    }
   ],
   "source": [
    "df.head()"
   ]
  },
  {
   "cell_type": "code",
   "execution_count": 4,
   "metadata": {},
   "outputs": [
    {
     "data": {
      "text/plain": [
       "PKT_CLASS    \n",
       "b'Normal'        1935959\n",
       "b'UDP-Flood'      201344\n",
       "b'Smurf'           12590\n",
       "b'SIDDOS'           6665\n",
       "b'HTTP-FLOOD'       4110\n",
       "dtype: int64"
      ]
     },
     "execution_count": 4,
     "metadata": {},
     "output_type": "execute_result"
    }
   ],
   "source": [
    "df[['PKT_CLASS']].value_counts()"
   ]
  },
  {
   "cell_type": "code",
   "execution_count": 5,
   "metadata": {},
   "outputs": [],
   "source": [
    "attacks=[\"b'Normal'\",\"b'UDP-Flood'\",\"b'Smurf'\",\"b'SIDDOS'\",\"b'HTTP-FLOOD'\"]"
   ]
  },
  {
   "cell_type": "code",
   "execution_count": 6,
   "metadata": {},
   "outputs": [
    {
     "data": {
      "text/plain": [
       "(2160668, 29)"
      ]
     },
     "execution_count": 6,
     "metadata": {},
     "output_type": "execute_result"
    }
   ],
   "source": [
    "df.shape"
   ]
  },
  {
   "cell_type": "code",
   "execution_count": 7,
   "metadata": {},
   "outputs": [
    {
     "name": "stdout",
     "output_type": "stream",
     "text": [
      "1200\n"
     ]
    }
   ],
   "source": [
    "sample = 6000\n",
    "import math\n",
    "l = math.ceil(sample/len(attacks))\n",
    "print(l)"
   ]
  },
  {
   "cell_type": "code",
   "execution_count": 8,
   "metadata": {},
   "outputs": [],
   "source": [
    "data = None\n",
    "for i in attacks:\n",
    "    if data is None:\n",
    "        data = df[df['PKT_CLASS']==i].sample(n=l)\n",
    "    else:\n",
    "        data = pd.concat([data,df[df['PKT_CLASS']==i].sample(n=l)],axis=0)"
   ]
  },
  {
   "cell_type": "code",
   "execution_count": 9,
   "metadata": {},
   "outputs": [
    {
     "data": {
      "text/plain": [
       "(6000, 29)"
      ]
     },
     "execution_count": 9,
     "metadata": {},
     "output_type": "execute_result"
    }
   ],
   "source": [
    "data.shape"
   ]
  },
  {
   "cell_type": "code",
   "execution_count": 10,
   "metadata": {},
   "outputs": [],
   "source": [
    "for i in attacks:\n",
    "    if i==\"b'Normal'\":\n",
    "        data=data.replace(i,0)\n",
    "    else:\n",
    "        data=data.replace(i,1)"
   ]
  },
  {
   "cell_type": "code",
   "execution_count": 11,
   "metadata": {},
   "outputs": [
    {
     "data": {
      "text/html": [
       "<div>\n",
       "<style scoped>\n",
       "    .dataframe tbody tr th:only-of-type {\n",
       "        vertical-align: middle;\n",
       "    }\n",
       "\n",
       "    .dataframe tbody tr th {\n",
       "        vertical-align: top;\n",
       "    }\n",
       "\n",
       "    .dataframe thead th {\n",
       "        text-align: right;\n",
       "    }\n",
       "</style>\n",
       "<table border=\"1\" class=\"dataframe\">\n",
       "  <thead>\n",
       "    <tr style=\"text-align: right;\">\n",
       "      <th></th>\n",
       "      <th>Unnamed: 0</th>\n",
       "      <th>SRC_ADD</th>\n",
       "      <th>DES_ADD</th>\n",
       "      <th>PKT_ID</th>\n",
       "      <th>FROM_NODE</th>\n",
       "      <th>TO_NODE</th>\n",
       "      <th>PKT_TYPE</th>\n",
       "      <th>PKT_SIZE</th>\n",
       "      <th>FLAGS</th>\n",
       "      <th>FID</th>\n",
       "      <th>...</th>\n",
       "      <th>PKT_RATE</th>\n",
       "      <th>BYTE_RATE</th>\n",
       "      <th>PKT_AVG_SIZE</th>\n",
       "      <th>UTILIZATION</th>\n",
       "      <th>PKT_DELAY</th>\n",
       "      <th>PKT_SEND_TIME</th>\n",
       "      <th>PKT_RESEVED_TIME</th>\n",
       "      <th>FIRST_PKT_SENT</th>\n",
       "      <th>LAST_PKT_RESEVED</th>\n",
       "      <th>PKT_CLASS</th>\n",
       "    </tr>\n",
       "  </thead>\n",
       "  <tbody>\n",
       "    <tr>\n",
       "      <th>690780</th>\n",
       "      <td>690780</td>\n",
       "      <td>6.0</td>\n",
       "      <td>24.60</td>\n",
       "      <td>550232.0</td>\n",
       "      <td>23.0</td>\n",
       "      <td>24.0</td>\n",
       "      <td>b'tcp'</td>\n",
       "      <td>1540.0</td>\n",
       "      <td>b'-------'</td>\n",
       "      <td>7.0</td>\n",
       "      <td>...</td>\n",
       "      <td>328.192835</td>\n",
       "      <td>505416.0</td>\n",
       "      <td>1540.0</td>\n",
       "      <td>0.236321</td>\n",
       "      <td>0.001722</td>\n",
       "      <td>47.832275</td>\n",
       "      <td>47.864368</td>\n",
       "      <td>1.000000</td>\n",
       "      <td>50.029102</td>\n",
       "      <td>0</td>\n",
       "    </tr>\n",
       "    <tr>\n",
       "      <th>1214621</th>\n",
       "      <td>1214621</td>\n",
       "      <td>5.0</td>\n",
       "      <td>24.50</td>\n",
       "      <td>289775.0</td>\n",
       "      <td>21.0</td>\n",
       "      <td>23.0</td>\n",
       "      <td>b'tcp'</td>\n",
       "      <td>1540.0</td>\n",
       "      <td>b'-------'</td>\n",
       "      <td>6.0</td>\n",
       "      <td>...</td>\n",
       "      <td>328.204637</td>\n",
       "      <td>505434.0</td>\n",
       "      <td>1540.0</td>\n",
       "      <td>0.236321</td>\n",
       "      <td>0.000000</td>\n",
       "      <td>27.855093</td>\n",
       "      <td>27.885462</td>\n",
       "      <td>1.000000</td>\n",
       "      <td>50.027339</td>\n",
       "      <td>0</td>\n",
       "    </tr>\n",
       "    <tr>\n",
       "      <th>140317</th>\n",
       "      <td>140317</td>\n",
       "      <td>24.2</td>\n",
       "      <td>2.00</td>\n",
       "      <td>155237.0</td>\n",
       "      <td>24.0</td>\n",
       "      <td>23.0</td>\n",
       "      <td>b'ack'</td>\n",
       "      <td>55.0</td>\n",
       "      <td>b'-------'</td>\n",
       "      <td>3.0</td>\n",
       "      <td>...</td>\n",
       "      <td>328.264120</td>\n",
       "      <td>18054.5</td>\n",
       "      <td>55.0</td>\n",
       "      <td>0.008440</td>\n",
       "      <td>0.000000</td>\n",
       "      <td>15.829936</td>\n",
       "      <td>15.859946</td>\n",
       "      <td>1.030022</td>\n",
       "      <td>50.048477</td>\n",
       "      <td>0</td>\n",
       "    </tr>\n",
       "    <tr>\n",
       "      <th>1961872</th>\n",
       "      <td>1961872</td>\n",
       "      <td>4.1</td>\n",
       "      <td>24.24</td>\n",
       "      <td>615046.0</td>\n",
       "      <td>23.0</td>\n",
       "      <td>24.0</td>\n",
       "      <td>b'cbr'</td>\n",
       "      <td>1000.0</td>\n",
       "      <td>b'-------'</td>\n",
       "      <td>25.0</td>\n",
       "      <td>...</td>\n",
       "      <td>124.942826</td>\n",
       "      <td>124943.0</td>\n",
       "      <td>1000.0</td>\n",
       "      <td>0.059605</td>\n",
       "      <td>0.000640</td>\n",
       "      <td>64.456000</td>\n",
       "      <td>64.486880</td>\n",
       "      <td>25.000000</td>\n",
       "      <td>75.022880</td>\n",
       "      <td>0</td>\n",
       "    </tr>\n",
       "    <tr>\n",
       "      <th>1959526</th>\n",
       "      <td>1959526</td>\n",
       "      <td>12.0</td>\n",
       "      <td>24.12</td>\n",
       "      <td>124299.0</td>\n",
       "      <td>22.0</td>\n",
       "      <td>23.0</td>\n",
       "      <td>b'tcp'</td>\n",
       "      <td>1540.0</td>\n",
       "      <td>b'-------'</td>\n",
       "      <td>13.0</td>\n",
       "      <td>...</td>\n",
       "      <td>328.491489</td>\n",
       "      <td>505876.0</td>\n",
       "      <td>1540.0</td>\n",
       "      <td>0.236498</td>\n",
       "      <td>0.000000</td>\n",
       "      <td>12.920461</td>\n",
       "      <td>12.950830</td>\n",
       "      <td>1.000000</td>\n",
       "      <td>50.021057</td>\n",
       "      <td>0</td>\n",
       "    </tr>\n",
       "  </tbody>\n",
       "</table>\n",
       "<p>5 rows × 29 columns</p>\n",
       "</div>"
      ],
      "text/plain": [
       "         Unnamed: 0  SRC_ADD  DES_ADD    PKT_ID  FROM_NODE  TO_NODE PKT_TYPE  \\\n",
       "690780       690780      6.0    24.60  550232.0       23.0     24.0   b'tcp'   \n",
       "1214621     1214621      5.0    24.50  289775.0       21.0     23.0   b'tcp'   \n",
       "140317       140317     24.2     2.00  155237.0       24.0     23.0   b'ack'   \n",
       "1961872     1961872      4.1    24.24  615046.0       23.0     24.0   b'cbr'   \n",
       "1959526     1959526     12.0    24.12  124299.0       22.0     23.0   b'tcp'   \n",
       "\n",
       "         PKT_SIZE       FLAGS   FID  ...    PKT_RATE  BYTE_RATE  PKT_AVG_SIZE  \\\n",
       "690780     1540.0  b'-------'   7.0  ...  328.192835   505416.0        1540.0   \n",
       "1214621    1540.0  b'-------'   6.0  ...  328.204637   505434.0        1540.0   \n",
       "140317       55.0  b'-------'   3.0  ...  328.264120    18054.5          55.0   \n",
       "1961872    1000.0  b'-------'  25.0  ...  124.942826   124943.0        1000.0   \n",
       "1959526    1540.0  b'-------'  13.0  ...  328.491489   505876.0        1540.0   \n",
       "\n",
       "        UTILIZATION PKT_DELAY  PKT_SEND_TIME  PKT_RESEVED_TIME  \\\n",
       "690780     0.236321  0.001722      47.832275         47.864368   \n",
       "1214621    0.236321  0.000000      27.855093         27.885462   \n",
       "140317     0.008440  0.000000      15.829936         15.859946   \n",
       "1961872    0.059605  0.000640      64.456000         64.486880   \n",
       "1959526    0.236498  0.000000      12.920461         12.950830   \n",
       "\n",
       "         FIRST_PKT_SENT  LAST_PKT_RESEVED  PKT_CLASS  \n",
       "690780         1.000000         50.029102          0  \n",
       "1214621        1.000000         50.027339          0  \n",
       "140317         1.030022         50.048477          0  \n",
       "1961872       25.000000         75.022880          0  \n",
       "1959526        1.000000         50.021057          0  \n",
       "\n",
       "[5 rows x 29 columns]"
      ]
     },
     "execution_count": 11,
     "metadata": {},
     "output_type": "execute_result"
    }
   ],
   "source": [
    "data.head()"
   ]
  },
  {
   "cell_type": "code",
   "execution_count": 12,
   "metadata": {},
   "outputs": [
    {
     "data": {
      "text/plain": [
       "Index(['Unnamed: 0', 'SRC_ADD', 'DES_ADD', 'PKT_ID', 'FROM_NODE', 'TO_NODE',\n",
       "       'PKT_TYPE', 'PKT_SIZE', 'FLAGS', 'FID', 'SEQ_NUMBER', 'NUMBER_OF_PKT',\n",
       "       'NUMBER_OF_BYTE', 'NODE_NAME_FROM', 'NODE_NAME_TO', 'PKT_IN', 'PKT_OUT',\n",
       "       'PKT_R', 'PKT_DELAY_NODE', 'PKT_RATE', 'BYTE_RATE', 'PKT_AVG_SIZE',\n",
       "       'UTILIZATION', 'PKT_DELAY', 'PKT_SEND_TIME', 'PKT_RESEVED_TIME',\n",
       "       'FIRST_PKT_SENT', 'LAST_PKT_RESEVED', 'PKT_CLASS'],\n",
       "      dtype='object')"
      ]
     },
     "execution_count": 12,
     "metadata": {},
     "output_type": "execute_result"
    }
   ],
   "source": [
    "data.columns"
   ]
  },
  {
   "cell_type": "code",
   "execution_count": 13,
   "metadata": {},
   "outputs": [],
   "source": [
    "features=['PKT_ID','PKT_SIZE', 'SEQ_NUMBER', 'NUMBER_OF_PKT','NUMBER_OF_BYTE', 'PKT_DELAY_NODE','PKT_RATE', 'BYTE_RATE', 'PKT_AVG_SIZE',\n",
    "       'UTILIZATION', 'PKT_DELAY']"
   ]
  },
  {
   "cell_type": "code",
   "execution_count": 14,
   "metadata": {},
   "outputs": [],
   "source": [
    "X=data.loc[:,features]\n",
    "Y=data.loc[:,['PKT_CLASS']]"
   ]
  },
  {
   "cell_type": "code",
   "execution_count": 15,
   "metadata": {},
   "outputs": [],
   "source": [
    "from sklearn.ensemble import RandomForestClassifier"
   ]
  },
  {
   "cell_type": "code",
   "execution_count": 16,
   "metadata": {},
   "outputs": [],
   "source": [
    "rs=RandomForestClassifier()"
   ]
  },
  {
   "cell_type": "code",
   "execution_count": 17,
   "metadata": {},
   "outputs": [
    {
     "name": "stderr",
     "output_type": "stream",
     "text": [
      "<ipython-input-17-f777a642d10a>:1: DataConversionWarning: A column-vector y was passed when a 1d array was expected. Please change the shape of y to (n_samples,), for example using ravel().\n",
      "  rs.fit(X,Y)\n"
     ]
    },
    {
     "name": "stdout",
     "output_type": "stream",
     "text": [
      "PKT_ID            0.315393\n",
      "SEQ_NUMBER        0.249793\n",
      "PKT_DELAY         0.152667\n",
      "PKT_RATE          0.099187\n",
      "NUMBER_OF_PKT     0.072465\n",
      "BYTE_RATE         0.048298\n",
      "PKT_DELAY_NODE    0.024229\n",
      "NUMBER_OF_BYTE    0.018923\n",
      "UTILIZATION       0.013212\n",
      "PKT_AVG_SIZE      0.003688\n",
      "PKT_SIZE          0.002145\n",
      "dtype: float64\n"
     ]
    }
   ],
   "source": [
    "rs.fit(X,Y)\n",
    "print(pd.Series(rs.feature_importances_,index=features).sort_values(ascending=False))"
   ]
  },
  {
   "cell_type": "code",
   "execution_count": 18,
   "metadata": {},
   "outputs": [],
   "source": [
    "from sklearn.model_selection import train_test_split\n",
    "x_train,x_test,y_train,y_test = train_test_split(X,Y,random_state=42,test_size=0.3)"
   ]
  },
  {
   "cell_type": "code",
   "execution_count": 19,
   "metadata": {},
   "outputs": [
    {
     "name": "stderr",
     "output_type": "stream",
     "text": [
      "<ipython-input-19-67eed18f5abe>:3: DataConversionWarning: A column-vector y was passed when a 1d array was expected. Please change the shape of y to (n_samples, ), for example using ravel().\n",
      "  model.fit(x_train,y_train)\n"
     ]
    },
    {
     "data": {
      "text/plain": [
       "KNeighborsClassifier()"
      ]
     },
     "execution_count": 19,
     "metadata": {},
     "output_type": "execute_result"
    }
   ],
   "source": [
    "from sklearn.neighbors import KNeighborsClassifier\n",
    "model = KNeighborsClassifier()\n",
    "model.fit(x_train,y_train)"
   ]
  },
  {
   "cell_type": "code",
   "execution_count": 20,
   "metadata": {},
   "outputs": [],
   "source": [
    "y_pred=model.predict(x_test)\n"
   ]
  },
  {
   "cell_type": "code",
   "execution_count": 21,
   "metadata": {},
   "outputs": [
    {
     "name": "stdout",
     "output_type": "stream",
     "text": [
      "81.27777777777779\n"
     ]
    }
   ],
   "source": [
    "from sklearn.metrics import accuracy_score\n",
    "score=accuracy_score(y_test,y_pred)*100\n",
    "print(score)"
   ]
  },
  {
   "cell_type": "code",
   "execution_count": 22,
   "metadata": {},
   "outputs": [
    {
     "name": "stderr",
     "output_type": "stream",
     "text": [
      "<ipython-input-22-3ce36fb38373>:2: DataConversionWarning: A column-vector y was passed when a 1d array was expected. Please change the shape of y to (n_samples,), for example using ravel().\n",
      "  model.fit(x_train,y_train)\n"
     ]
    },
    {
     "data": {
      "text/plain": [
       "RandomForestClassifier()"
      ]
     },
     "execution_count": 22,
     "metadata": {},
     "output_type": "execute_result"
    }
   ],
   "source": [
    "model = RandomForestClassifier()\n",
    "model.fit(x_train,y_train)"
   ]
  },
  {
   "cell_type": "code",
   "execution_count": 23,
   "metadata": {},
   "outputs": [],
   "source": [
    "y_pred=model.predict(x_test)"
   ]
  },
  {
   "cell_type": "code",
   "execution_count": 24,
   "metadata": {},
   "outputs": [
    {
     "name": "stdout",
     "output_type": "stream",
     "text": [
      "81.44444444444444\n"
     ]
    }
   ],
   "source": [
    "score=accuracy_score(y_test,y_pred)*100\n",
    "print(score)"
   ]
  },
  {
   "cell_type": "code",
   "execution_count": 25,
   "metadata": {},
   "outputs": [],
   "source": [
    "from sklearn.svm import SVC\n",
    "from sklearn.naive_bayes import GaussianNB"
   ]
  },
  {
   "cell_type": "code",
   "execution_count": 26,
   "metadata": {},
   "outputs": [
    {
     "name": "stderr",
     "output_type": "stream",
     "text": [
      "C:\\Users\\rakes\\anaconda3\\lib\\site-packages\\sklearn\\utils\\validation.py:72: DataConversionWarning: A column-vector y was passed when a 1d array was expected. Please change the shape of y to (n_samples, ), for example using ravel().\n",
      "  return f(**kwargs)\n"
     ]
    },
    {
     "data": {
      "text/plain": [
       "SVC()"
      ]
     },
     "execution_count": 26,
     "metadata": {},
     "output_type": "execute_result"
    }
   ],
   "source": [
    "svm = SVC()\n",
    "svm.fit(x_train,y_train)"
   ]
  },
  {
   "cell_type": "code",
   "execution_count": 27,
   "metadata": {},
   "outputs": [],
   "source": [
    "y_pred = svm.predict(x_test)"
   ]
  },
  {
   "cell_type": "code",
   "execution_count": 28,
   "metadata": {},
   "outputs": [
    {
     "name": "stdout",
     "output_type": "stream",
     "text": [
      "79.83333333333333\n"
     ]
    }
   ],
   "source": [
    "score=accuracy_score(y_test,y_pred)*100\n",
    "print(score)"
   ]
  },
  {
   "cell_type": "code",
   "execution_count": 29,
   "metadata": {},
   "outputs": [
    {
     "name": "stderr",
     "output_type": "stream",
     "text": [
      "C:\\Users\\rakes\\anaconda3\\lib\\site-packages\\sklearn\\utils\\validation.py:72: DataConversionWarning: A column-vector y was passed when a 1d array was expected. Please change the shape of y to (n_samples, ), for example using ravel().\n",
      "  return f(**kwargs)\n"
     ]
    },
    {
     "data": {
      "text/plain": [
       "GaussianNB()"
      ]
     },
     "execution_count": 29,
     "metadata": {},
     "output_type": "execute_result"
    }
   ],
   "source": [
    "naive = GaussianNB()\n",
    "naive.fit(x_train,y_train)"
   ]
  },
  {
   "cell_type": "code",
   "execution_count": 30,
   "metadata": {},
   "outputs": [],
   "source": [
    "y_pred = svm.predict(x_test)"
   ]
  },
  {
   "cell_type": "code",
   "execution_count": 31,
   "metadata": {},
   "outputs": [
    {
     "name": "stdout",
     "output_type": "stream",
     "text": [
      "79.83333333333333\n"
     ]
    }
   ],
   "source": [
    "score=accuracy_score(y_test,y_pred)*100\n",
    "print(score)"
   ]
  },
  {
   "cell_type": "code",
   "execution_count": 32,
   "metadata": {},
   "outputs": [],
   "source": [
    "from sklearn.ensemble import ExtraTreesClassifier\n",
    "from sklearn.ensemble import AdaBoostClassifier"
   ]
  },
  {
   "cell_type": "code",
   "execution_count": 33,
   "metadata": {},
   "outputs": [],
   "source": [
    "etc = ExtraTreesClassifier(n_estimators=10, max_depth=None,min_samples_split=2, random_state=0)"
   ]
  },
  {
   "cell_type": "code",
   "execution_count": 34,
   "metadata": {},
   "outputs": [
    {
     "name": "stderr",
     "output_type": "stream",
     "text": [
      "<ipython-input-34-5034d2b821d5>:1: DataConversionWarning: A column-vector y was passed when a 1d array was expected. Please change the shape of y to (n_samples,), for example using ravel().\n",
      "  etc.fit(x_train,y_train)\n"
     ]
    },
    {
     "data": {
      "text/plain": [
       "ExtraTreesClassifier(n_estimators=10, random_state=0)"
      ]
     },
     "execution_count": 34,
     "metadata": {},
     "output_type": "execute_result"
    }
   ],
   "source": [
    "etc.fit(x_train,y_train)"
   ]
  },
  {
   "cell_type": "code",
   "execution_count": 35,
   "metadata": {},
   "outputs": [
    {
     "name": "stdout",
     "output_type": "stream",
     "text": [
      "80.61111111111111\n"
     ]
    }
   ],
   "source": [
    "y_pred = etc.predict(x_test)\n",
    "print(accuracy_score(y_test,y_pred)*100)"
   ]
  },
  {
   "cell_type": "code",
   "execution_count": 36,
   "metadata": {},
   "outputs": [
    {
     "name": "stderr",
     "output_type": "stream",
     "text": [
      "C:\\Users\\rakes\\anaconda3\\lib\\site-packages\\sklearn\\utils\\validation.py:72: DataConversionWarning: A column-vector y was passed when a 1d array was expected. Please change the shape of y to (n_samples, ), for example using ravel().\n",
      "  return f(**kwargs)\n"
     ]
    },
    {
     "data": {
      "text/plain": [
       "AdaBoostClassifier(n_estimators=100)"
      ]
     },
     "execution_count": 36,
     "metadata": {},
     "output_type": "execute_result"
    }
   ],
   "source": [
    "adb = AdaBoostClassifier(n_estimators = 100)\n",
    "adb.fit(x_train,y_train)"
   ]
  },
  {
   "cell_type": "code",
   "execution_count": 37,
   "metadata": {},
   "outputs": [
    {
     "name": "stdout",
     "output_type": "stream",
     "text": [
      "81.88888888888889\n"
     ]
    }
   ],
   "source": [
    "y_pred=adb.predict(x_test)\n",
    "print(accuracy_score(y_test,y_pred)*100)"
   ]
  },
  {
   "cell_type": "code",
   "execution_count": 38,
   "metadata": {},
   "outputs": [
    {
     "name": "stderr",
     "output_type": "stream",
     "text": [
      "C:\\Users\\rakes\\anaconda3\\lib\\site-packages\\sklearn\\utils\\validation.py:72: DataConversionWarning: A column-vector y was passed when a 1d array was expected. Please change the shape of y to (n_samples, ), for example using ravel().\n",
      "  return f(**kwargs)\n"
     ]
    }
   ],
   "source": [
    "from sklearn.ensemble import GradientBoostingClassifier\n",
    "clf = GradientBoostingClassifier(n_estimators=100, learning_rate=1.0, max_depth=1, random_state=0).fit(x_train, y_train)"
   ]
  },
  {
   "cell_type": "code",
   "execution_count": 41,
   "metadata": {},
   "outputs": [
    {
     "data": {
      "text/plain": [
       "83.38888888888889"
      ]
     },
     "execution_count": 41,
     "metadata": {},
     "output_type": "execute_result"
    }
   ],
   "source": [
    "clf.score(x_test, y_test)*100"
   ]
  },
  {
   "cell_type": "code",
   "execution_count": null,
   "metadata": {},
   "outputs": [],
   "source": []
  }
 ],
 "metadata": {
  "kernelspec": {
   "display_name": "Python 3",
   "language": "python",
   "name": "python3"
  },
  "language_info": {
   "codemirror_mode": {
    "name": "ipython",
    "version": 3
   },
   "file_extension": ".py",
   "mimetype": "text/x-python",
   "name": "python",
   "nbconvert_exporter": "python",
   "pygments_lexer": "ipython3",
   "version": "3.8.5"
  }
 },
 "nbformat": 4,
 "nbformat_minor": 4
}
