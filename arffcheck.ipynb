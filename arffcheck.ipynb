{
 "cells": [
  {
   "cell_type": "code",
   "execution_count": 1,
   "metadata": {},
   "outputs": [],
   "source": [
    "import pandas as pd"
   ]
  },
  {
   "cell_type": "code",
   "execution_count": 2,
   "metadata": {},
   "outputs": [
    {
     "data": {
      "text/html": [
       "<div>\n",
       "<style scoped>\n",
       "    .dataframe tbody tr th:only-of-type {\n",
       "        vertical-align: middle;\n",
       "    }\n",
       "\n",
       "    .dataframe tbody tr th {\n",
       "        vertical-align: top;\n",
       "    }\n",
       "\n",
       "    .dataframe thead th {\n",
       "        text-align: right;\n",
       "    }\n",
       "</style>\n",
       "<table border=\"1\" class=\"dataframe\">\n",
       "  <thead>\n",
       "    <tr style=\"text-align: right;\">\n",
       "      <th></th>\n",
       "      <th>Unnamed: 0</th>\n",
       "      <th>SRC_ADD</th>\n",
       "      <th>DES_ADD</th>\n",
       "      <th>PKT_ID</th>\n",
       "      <th>FROM_NODE</th>\n",
       "      <th>TO_NODE</th>\n",
       "      <th>PKT_TYPE</th>\n",
       "      <th>PKT_SIZE</th>\n",
       "      <th>FLAGS</th>\n",
       "      <th>FID</th>\n",
       "      <th>...</th>\n",
       "      <th>PKT_RATE</th>\n",
       "      <th>BYTE_RATE</th>\n",
       "      <th>PKT_AVG_SIZE</th>\n",
       "      <th>UTILIZATION</th>\n",
       "      <th>PKT_DELAY</th>\n",
       "      <th>PKT_SEND_TIME</th>\n",
       "      <th>PKT_RESEVED_TIME</th>\n",
       "      <th>FIRST_PKT_SENT</th>\n",
       "      <th>LAST_PKT_RESEVED</th>\n",
       "      <th>PKT_CLASS</th>\n",
       "    </tr>\n",
       "  </thead>\n",
       "  <tbody>\n",
       "    <tr>\n",
       "      <th>0</th>\n",
       "      <td>0</td>\n",
       "      <td>3.00</td>\n",
       "      <td>24.30</td>\n",
       "      <td>389693.0</td>\n",
       "      <td>21.0</td>\n",
       "      <td>23.0</td>\n",
       "      <td>b'tcp'</td>\n",
       "      <td>1540.0</td>\n",
       "      <td>b'-------'</td>\n",
       "      <td>4.0</td>\n",
       "      <td>...</td>\n",
       "      <td>328.240918</td>\n",
       "      <td>505490.0</td>\n",
       "      <td>1540.0</td>\n",
       "      <td>0.236321</td>\n",
       "      <td>0.0</td>\n",
       "      <td>35.519662</td>\n",
       "      <td>35.550032</td>\n",
       "      <td>1.000000</td>\n",
       "      <td>50.021920</td>\n",
       "      <td>b'Normal'</td>\n",
       "    </tr>\n",
       "    <tr>\n",
       "      <th>1</th>\n",
       "      <td>1</td>\n",
       "      <td>15.00</td>\n",
       "      <td>24.15</td>\n",
       "      <td>201196.0</td>\n",
       "      <td>23.0</td>\n",
       "      <td>24.0</td>\n",
       "      <td>b'tcp'</td>\n",
       "      <td>1540.0</td>\n",
       "      <td>b'-------'</td>\n",
       "      <td>16.0</td>\n",
       "      <td>...</td>\n",
       "      <td>328.205808</td>\n",
       "      <td>505437.0</td>\n",
       "      <td>1540.0</td>\n",
       "      <td>0.236337</td>\n",
       "      <td>0.0</td>\n",
       "      <td>20.156478</td>\n",
       "      <td>20.186848</td>\n",
       "      <td>1.000000</td>\n",
       "      <td>50.030211</td>\n",
       "      <td>b'Normal'</td>\n",
       "    </tr>\n",
       "    <tr>\n",
       "      <th>2</th>\n",
       "      <td>2</td>\n",
       "      <td>24.15</td>\n",
       "      <td>15.00</td>\n",
       "      <td>61905.0</td>\n",
       "      <td>23.0</td>\n",
       "      <td>22.0</td>\n",
       "      <td>b'ack'</td>\n",
       "      <td>55.0</td>\n",
       "      <td>b'-------'</td>\n",
       "      <td>16.0</td>\n",
       "      <td>...</td>\n",
       "      <td>328.206042</td>\n",
       "      <td>18051.3</td>\n",
       "      <td>55.0</td>\n",
       "      <td>0.008441</td>\n",
       "      <td>0.0</td>\n",
       "      <td>7.039952</td>\n",
       "      <td>7.069962</td>\n",
       "      <td>1.030045</td>\n",
       "      <td>50.060221</td>\n",
       "      <td>b'UDP-Flood'</td>\n",
       "    </tr>\n",
       "    <tr>\n",
       "      <th>3</th>\n",
       "      <td>3</td>\n",
       "      <td>24.90</td>\n",
       "      <td>9.00</td>\n",
       "      <td>443135.0</td>\n",
       "      <td>23.0</td>\n",
       "      <td>21.0</td>\n",
       "      <td>b'ack'</td>\n",
       "      <td>55.0</td>\n",
       "      <td>b'-------'</td>\n",
       "      <td>10.0</td>\n",
       "      <td>...</td>\n",
       "      <td>328.064183</td>\n",
       "      <td>18043.5</td>\n",
       "      <td>55.0</td>\n",
       "      <td>0.008437</td>\n",
       "      <td>0.0</td>\n",
       "      <td>39.617967</td>\n",
       "      <td>39.647976</td>\n",
       "      <td>1.030058</td>\n",
       "      <td>50.060098</td>\n",
       "      <td>b'Normal'</td>\n",
       "    </tr>\n",
       "    <tr>\n",
       "      <th>4</th>\n",
       "      <td>4</td>\n",
       "      <td>24.80</td>\n",
       "      <td>8.00</td>\n",
       "      <td>157335.0</td>\n",
       "      <td>23.0</td>\n",
       "      <td>21.0</td>\n",
       "      <td>b'ack'</td>\n",
       "      <td>55.0</td>\n",
       "      <td>b'-------'</td>\n",
       "      <td>9.0</td>\n",
       "      <td>...</td>\n",
       "      <td>328.113525</td>\n",
       "      <td>18046.2</td>\n",
       "      <td>55.0</td>\n",
       "      <td>0.008438</td>\n",
       "      <td>0.0</td>\n",
       "      <td>16.029803</td>\n",
       "      <td>16.059813</td>\n",
       "      <td>1.030054</td>\n",
       "      <td>50.061864</td>\n",
       "      <td>b'Normal'</td>\n",
       "    </tr>\n",
       "  </tbody>\n",
       "</table>\n",
       "<p>5 rows × 29 columns</p>\n",
       "</div>"
      ],
      "text/plain": [
       "   Unnamed: 0  SRC_ADD  DES_ADD    PKT_ID  FROM_NODE  TO_NODE PKT_TYPE  \\\n",
       "0           0     3.00    24.30  389693.0       21.0     23.0   b'tcp'   \n",
       "1           1    15.00    24.15  201196.0       23.0     24.0   b'tcp'   \n",
       "2           2    24.15    15.00   61905.0       23.0     22.0   b'ack'   \n",
       "3           3    24.90     9.00  443135.0       23.0     21.0   b'ack'   \n",
       "4           4    24.80     8.00  157335.0       23.0     21.0   b'ack'   \n",
       "\n",
       "   PKT_SIZE       FLAGS   FID  ...    PKT_RATE  BYTE_RATE  PKT_AVG_SIZE  \\\n",
       "0    1540.0  b'-------'   4.0  ...  328.240918   505490.0        1540.0   \n",
       "1    1540.0  b'-------'  16.0  ...  328.205808   505437.0        1540.0   \n",
       "2      55.0  b'-------'  16.0  ...  328.206042    18051.3          55.0   \n",
       "3      55.0  b'-------'  10.0  ...  328.064183    18043.5          55.0   \n",
       "4      55.0  b'-------'   9.0  ...  328.113525    18046.2          55.0   \n",
       "\n",
       "  UTILIZATION PKT_DELAY  PKT_SEND_TIME  PKT_RESEVED_TIME  FIRST_PKT_SENT  \\\n",
       "0    0.236321       0.0      35.519662         35.550032        1.000000   \n",
       "1    0.236337       0.0      20.156478         20.186848        1.000000   \n",
       "2    0.008441       0.0       7.039952          7.069962        1.030045   \n",
       "3    0.008437       0.0      39.617967         39.647976        1.030058   \n",
       "4    0.008438       0.0      16.029803         16.059813        1.030054   \n",
       "\n",
       "   LAST_PKT_RESEVED     PKT_CLASS  \n",
       "0         50.021920     b'Normal'  \n",
       "1         50.030211     b'Normal'  \n",
       "2         50.060221  b'UDP-Flood'  \n",
       "3         50.060098     b'Normal'  \n",
       "4         50.061864     b'Normal'  \n",
       "\n",
       "[5 rows x 29 columns]"
      ]
     },
     "execution_count": 2,
     "metadata": {},
     "output_type": "execute_result"
    }
   ],
   "source": [
    "df = pd.read_csv('Ddos.csv')\n",
    "df.head()"
   ]
  },
  {
   "cell_type": "code",
   "execution_count": 3,
   "metadata": {},
   "outputs": [
    {
     "data": {
      "text/plain": [
       "(2160668, 29)"
      ]
     },
     "execution_count": 3,
     "metadata": {},
     "output_type": "execute_result"
    }
   ],
   "source": [
    "df.shape"
   ]
  },
  {
   "cell_type": "code",
   "execution_count": 4,
   "metadata": {},
   "outputs": [
    {
     "data": {
      "text/plain": [
       "Index(['Unnamed: 0', 'SRC_ADD', 'DES_ADD', 'PKT_ID', 'FROM_NODE', 'TO_NODE',\n",
       "       'PKT_TYPE', 'PKT_SIZE', 'FLAGS', 'FID', 'SEQ_NUMBER', 'NUMBER_OF_PKT',\n",
       "       'NUMBER_OF_BYTE', 'NODE_NAME_FROM', 'NODE_NAME_TO', 'PKT_IN', 'PKT_OUT',\n",
       "       'PKT_R', 'PKT_DELAY_NODE', 'PKT_RATE', 'BYTE_RATE', 'PKT_AVG_SIZE',\n",
       "       'UTILIZATION', 'PKT_DELAY', 'PKT_SEND_TIME', 'PKT_RESEVED_TIME',\n",
       "       'FIRST_PKT_SENT', 'LAST_PKT_RESEVED', 'PKT_CLASS'],\n",
       "      dtype='object')"
      ]
     },
     "execution_count": 4,
     "metadata": {},
     "output_type": "execute_result"
    }
   ],
   "source": [
    "df.columns"
   ]
  },
  {
   "cell_type": "code",
   "execution_count": 7,
   "metadata": {},
   "outputs": [
    {
     "data": {
      "text/html": [
       "<div>\n",
       "<style scoped>\n",
       "    .dataframe tbody tr th:only-of-type {\n",
       "        vertical-align: middle;\n",
       "    }\n",
       "\n",
       "    .dataframe tbody tr th {\n",
       "        vertical-align: top;\n",
       "    }\n",
       "\n",
       "    .dataframe thead th {\n",
       "        text-align: right;\n",
       "    }\n",
       "</style>\n",
       "<table border=\"1\" class=\"dataframe\">\n",
       "  <thead>\n",
       "    <tr style=\"text-align: right;\">\n",
       "      <th></th>\n",
       "      <th>NUMBER_OF_PKT</th>\n",
       "      <th>PKT_CLASS</th>\n",
       "    </tr>\n",
       "  </thead>\n",
       "  <tbody>\n",
       "    <tr>\n",
       "      <th>2</th>\n",
       "      <td>16092.0</td>\n",
       "      <td>b'UDP-Flood'</td>\n",
       "    </tr>\n",
       "    <tr>\n",
       "      <th>10</th>\n",
       "      <td>9108.0</td>\n",
       "      <td>b'UDP-Flood'</td>\n",
       "    </tr>\n",
       "    <tr>\n",
       "      <th>17</th>\n",
       "      <td>16091.0</td>\n",
       "      <td>b'Smurf'</td>\n",
       "    </tr>\n",
       "    <tr>\n",
       "      <th>19</th>\n",
       "      <td>210.0</td>\n",
       "      <td>b'Smurf'</td>\n",
       "    </tr>\n",
       "    <tr>\n",
       "      <th>24</th>\n",
       "      <td>16103.0</td>\n",
       "      <td>b'UDP-Flood'</td>\n",
       "    </tr>\n",
       "    <tr>\n",
       "      <th>...</th>\n",
       "      <td>...</td>\n",
       "      <td>...</td>\n",
       "    </tr>\n",
       "    <tr>\n",
       "      <th>2160632</th>\n",
       "      <td>16091.0</td>\n",
       "      <td>b'UDP-Flood'</td>\n",
       "    </tr>\n",
       "    <tr>\n",
       "      <th>2160635</th>\n",
       "      <td>8655.0</td>\n",
       "      <td>b'UDP-Flood'</td>\n",
       "    </tr>\n",
       "    <tr>\n",
       "      <th>2160639</th>\n",
       "      <td>9108.0</td>\n",
       "      <td>b'UDP-Flood'</td>\n",
       "    </tr>\n",
       "    <tr>\n",
       "      <th>2160640</th>\n",
       "      <td>9108.0</td>\n",
       "      <td>b'UDP-Flood'</td>\n",
       "    </tr>\n",
       "    <tr>\n",
       "      <th>2160646</th>\n",
       "      <td>16092.0</td>\n",
       "      <td>b'UDP-Flood'</td>\n",
       "    </tr>\n",
       "  </tbody>\n",
       "</table>\n",
       "<p>224709 rows × 2 columns</p>\n",
       "</div>"
      ],
      "text/plain": [
       "         NUMBER_OF_PKT     PKT_CLASS\n",
       "2              16092.0  b'UDP-Flood'\n",
       "10              9108.0  b'UDP-Flood'\n",
       "17             16091.0      b'Smurf'\n",
       "19               210.0      b'Smurf'\n",
       "24             16103.0  b'UDP-Flood'\n",
       "...                ...           ...\n",
       "2160632        16091.0  b'UDP-Flood'\n",
       "2160635         8655.0  b'UDP-Flood'\n",
       "2160639         9108.0  b'UDP-Flood'\n",
       "2160640         9108.0  b'UDP-Flood'\n",
       "2160646        16092.0  b'UDP-Flood'\n",
       "\n",
       "[224709 rows x 2 columns]"
      ]
     },
     "execution_count": 7,
     "metadata": {},
     "output_type": "execute_result"
    }
   ],
   "source": [
    "df[['NUMBER_OF_PKT','PKT_CLASS']][df.PKT_CLASS!=\"b'Normal'\"]"
   ]
  },
  {
   "cell_type": "code",
   "execution_count": 8,
   "metadata": {},
   "outputs": [
    {
     "data": {
      "text/html": [
       "<div>\n",
       "<style scoped>\n",
       "    .dataframe tbody tr th:only-of-type {\n",
       "        vertical-align: middle;\n",
       "    }\n",
       "\n",
       "    .dataframe tbody tr th {\n",
       "        vertical-align: top;\n",
       "    }\n",
       "\n",
       "    .dataframe thead th {\n",
       "        text-align: right;\n",
       "    }\n",
       "</style>\n",
       "<table border=\"1\" class=\"dataframe\">\n",
       "  <thead>\n",
       "    <tr style=\"text-align: right;\">\n",
       "      <th></th>\n",
       "      <th>NUMBER_OF_PKT</th>\n",
       "      <th>PKT_CLASS</th>\n",
       "    </tr>\n",
       "  </thead>\n",
       "  <tbody>\n",
       "    <tr>\n",
       "      <th>0</th>\n",
       "      <td>16091.0</td>\n",
       "      <td>b'Normal'</td>\n",
       "    </tr>\n",
       "    <tr>\n",
       "      <th>1</th>\n",
       "      <td>16092.0</td>\n",
       "      <td>b'Normal'</td>\n",
       "    </tr>\n",
       "    <tr>\n",
       "      <th>3</th>\n",
       "      <td>16085.0</td>\n",
       "      <td>b'Normal'</td>\n",
       "    </tr>\n",
       "    <tr>\n",
       "      <th>4</th>\n",
       "      <td>16088.0</td>\n",
       "      <td>b'Normal'</td>\n",
       "    </tr>\n",
       "    <tr>\n",
       "      <th>5</th>\n",
       "      <td>16091.0</td>\n",
       "      <td>b'Normal'</td>\n",
       "    </tr>\n",
       "    <tr>\n",
       "      <th>...</th>\n",
       "      <td>...</td>\n",
       "      <td>...</td>\n",
       "    </tr>\n",
       "    <tr>\n",
       "      <th>2160663</th>\n",
       "      <td>16103.0</td>\n",
       "      <td>b'Normal'</td>\n",
       "    </tr>\n",
       "    <tr>\n",
       "      <th>2160664</th>\n",
       "      <td>16103.0</td>\n",
       "      <td>b'Normal'</td>\n",
       "    </tr>\n",
       "    <tr>\n",
       "      <th>2160665</th>\n",
       "      <td>16091.0</td>\n",
       "      <td>b'Normal'</td>\n",
       "    </tr>\n",
       "    <tr>\n",
       "      <th>2160666</th>\n",
       "      <td>16091.0</td>\n",
       "      <td>b'Normal'</td>\n",
       "    </tr>\n",
       "    <tr>\n",
       "      <th>2160667</th>\n",
       "      <td>16092.0</td>\n",
       "      <td>b'Normal'</td>\n",
       "    </tr>\n",
       "  </tbody>\n",
       "</table>\n",
       "<p>1935959 rows × 2 columns</p>\n",
       "</div>"
      ],
      "text/plain": [
       "         NUMBER_OF_PKT  PKT_CLASS\n",
       "0              16091.0  b'Normal'\n",
       "1              16092.0  b'Normal'\n",
       "3              16085.0  b'Normal'\n",
       "4              16088.0  b'Normal'\n",
       "5              16091.0  b'Normal'\n",
       "...                ...        ...\n",
       "2160663        16103.0  b'Normal'\n",
       "2160664        16103.0  b'Normal'\n",
       "2160665        16091.0  b'Normal'\n",
       "2160666        16091.0  b'Normal'\n",
       "2160667        16092.0  b'Normal'\n",
       "\n",
       "[1935959 rows x 2 columns]"
      ]
     },
     "execution_count": 8,
     "metadata": {},
     "output_type": "execute_result"
    }
   ],
   "source": [
    "df[['NUMBER_OF_PKT','PKT_CLASS']][df.PKT_CLASS==\"b'Normal'\"]"
   ]
  },
  {
   "cell_type": "code",
   "execution_count": 9,
   "metadata": {},
   "outputs": [
    {
     "data": {
      "text/plain": [
       "b'Normal'        1935959\n",
       "b'UDP-Flood'      201344\n",
       "b'Smurf'           12590\n",
       "b'SIDDOS'           6665\n",
       "b'HTTP-FLOOD'       4110\n",
       "Name: PKT_CLASS, dtype: int64"
      ]
     },
     "execution_count": 9,
     "metadata": {},
     "output_type": "execute_result"
    }
   ],
   "source": [
    "df['PKT_CLASS'].value_counts()"
   ]
  },
  {
   "cell_type": "code",
   "execution_count": 10,
   "metadata": {},
   "outputs": [],
   "source": [
    "x_sample=df[df['PKT_CLASS']==\"b'Normal'\"].sample(n=4110)"
   ]
  },
  {
   "cell_type": "code",
   "execution_count": 11,
   "metadata": {},
   "outputs": [],
   "source": [
    "x_sample=pd.concat([x_sample,df[df['PKT_CLASS']==\"b'HTTP-FLOOD'\"].sample(n=4110)],axis=0)"
   ]
  },
  {
   "cell_type": "code",
   "execution_count": 12,
   "metadata": {},
   "outputs": [
    {
     "data": {
      "text/plain": [
       "(8220, 29)"
      ]
     },
     "execution_count": 12,
     "metadata": {},
     "output_type": "execute_result"
    }
   ],
   "source": [
    "x_sample.shape"
   ]
  },
  {
   "cell_type": "code",
   "execution_count": 13,
   "metadata": {},
   "outputs": [
    {
     "data": {
      "text/html": [
       "<div>\n",
       "<style scoped>\n",
       "    .dataframe tbody tr th:only-of-type {\n",
       "        vertical-align: middle;\n",
       "    }\n",
       "\n",
       "    .dataframe tbody tr th {\n",
       "        vertical-align: top;\n",
       "    }\n",
       "\n",
       "    .dataframe thead th {\n",
       "        text-align: right;\n",
       "    }\n",
       "</style>\n",
       "<table border=\"1\" class=\"dataframe\">\n",
       "  <thead>\n",
       "    <tr style=\"text-align: right;\">\n",
       "      <th></th>\n",
       "      <th>Unnamed: 0</th>\n",
       "      <th>SRC_ADD</th>\n",
       "      <th>DES_ADD</th>\n",
       "      <th>PKT_ID</th>\n",
       "      <th>FROM_NODE</th>\n",
       "      <th>TO_NODE</th>\n",
       "      <th>PKT_TYPE</th>\n",
       "      <th>PKT_SIZE</th>\n",
       "      <th>FLAGS</th>\n",
       "      <th>FID</th>\n",
       "      <th>...</th>\n",
       "      <th>PKT_RATE</th>\n",
       "      <th>BYTE_RATE</th>\n",
       "      <th>PKT_AVG_SIZE</th>\n",
       "      <th>UTILIZATION</th>\n",
       "      <th>PKT_DELAY</th>\n",
       "      <th>PKT_SEND_TIME</th>\n",
       "      <th>PKT_RESEVED_TIME</th>\n",
       "      <th>FIRST_PKT_SENT</th>\n",
       "      <th>LAST_PKT_RESEVED</th>\n",
       "      <th>PKT_CLASS</th>\n",
       "    </tr>\n",
       "  </thead>\n",
       "  <tbody>\n",
       "    <tr>\n",
       "      <th>1392162</th>\n",
       "      <td>1392162</td>\n",
       "      <td>13.00</td>\n",
       "      <td>24.13</td>\n",
       "      <td>153699.0</td>\n",
       "      <td>13.0</td>\n",
       "      <td>22.0</td>\n",
       "      <td>b'tcp'</td>\n",
       "      <td>1540.0</td>\n",
       "      <td>b'-------'</td>\n",
       "      <td>14.0</td>\n",
       "      <td>...</td>\n",
       "      <td>328.460131</td>\n",
       "      <td>505828.0</td>\n",
       "      <td>1540.0</td>\n",
       "      <td>0.236498</td>\n",
       "      <td>0.000000</td>\n",
       "      <td>15.683490</td>\n",
       "      <td>15.713859</td>\n",
       "      <td>1.000000</td>\n",
       "      <td>50.025737</td>\n",
       "      <td>b'Normal'</td>\n",
       "    </tr>\n",
       "    <tr>\n",
       "      <th>594128</th>\n",
       "      <td>594128</td>\n",
       "      <td>24.12</td>\n",
       "      <td>12.00</td>\n",
       "      <td>546605.0</td>\n",
       "      <td>22.0</td>\n",
       "      <td>12.0</td>\n",
       "      <td>b'ack'</td>\n",
       "      <td>55.0</td>\n",
       "      <td>b'-------'</td>\n",
       "      <td>13.0</td>\n",
       "      <td>...</td>\n",
       "      <td>328.491596</td>\n",
       "      <td>18067.0</td>\n",
       "      <td>55.0</td>\n",
       "      <td>0.008446</td>\n",
       "      <td>0.000000</td>\n",
       "      <td>47.554472</td>\n",
       "      <td>47.584482</td>\n",
       "      <td>1.030026</td>\n",
       "      <td>50.051067</td>\n",
       "      <td>b'Normal'</td>\n",
       "    </tr>\n",
       "    <tr>\n",
       "      <th>578455</th>\n",
       "      <td>578455</td>\n",
       "      <td>17.10</td>\n",
       "      <td>24.37</td>\n",
       "      <td>433402.0</td>\n",
       "      <td>22.0</td>\n",
       "      <td>23.0</td>\n",
       "      <td>b'cbr'</td>\n",
       "      <td>1000.0</td>\n",
       "      <td>b'-------'</td>\n",
       "      <td>38.0</td>\n",
       "      <td>...</td>\n",
       "      <td>124.941427</td>\n",
       "      <td>124941.0</td>\n",
       "      <td>1000.0</td>\n",
       "      <td>0.059605</td>\n",
       "      <td>0.001280</td>\n",
       "      <td>38.872000</td>\n",
       "      <td>38.903520</td>\n",
       "      <td>25.000000</td>\n",
       "      <td>75.023440</td>\n",
       "      <td>b'Normal'</td>\n",
       "    </tr>\n",
       "    <tr>\n",
       "      <th>1598948</th>\n",
       "      <td>1598948</td>\n",
       "      <td>0.00</td>\n",
       "      <td>24.00</td>\n",
       "      <td>461501.0</td>\n",
       "      <td>21.0</td>\n",
       "      <td>23.0</td>\n",
       "      <td>b'tcp'</td>\n",
       "      <td>1540.0</td>\n",
       "      <td>b'-------'</td>\n",
       "      <td>1.0</td>\n",
       "      <td>...</td>\n",
       "      <td>328.316229</td>\n",
       "      <td>505606.0</td>\n",
       "      <td>1540.0</td>\n",
       "      <td>0.236321</td>\n",
       "      <td>0.000123</td>\n",
       "      <td>41.027403</td>\n",
       "      <td>41.057896</td>\n",
       "      <td>1.000000</td>\n",
       "      <td>50.010675</td>\n",
       "      <td>b'Normal'</td>\n",
       "    </tr>\n",
       "    <tr>\n",
       "      <th>1275596</th>\n",
       "      <td>1275596</td>\n",
       "      <td>24.60</td>\n",
       "      <td>6.00</td>\n",
       "      <td>19464.0</td>\n",
       "      <td>21.0</td>\n",
       "      <td>6.0</td>\n",
       "      <td>b'ack'</td>\n",
       "      <td>55.0</td>\n",
       "      <td>b'-------'</td>\n",
       "      <td>7.0</td>\n",
       "      <td>...</td>\n",
       "      <td>328.193090</td>\n",
       "      <td>18050.6</td>\n",
       "      <td>55.0</td>\n",
       "      <td>0.008440</td>\n",
       "      <td>0.000000</td>\n",
       "      <td>3.041742</td>\n",
       "      <td>3.071752</td>\n",
       "      <td>1.030048</td>\n",
       "      <td>50.059112</td>\n",
       "      <td>b'Normal'</td>\n",
       "    </tr>\n",
       "  </tbody>\n",
       "</table>\n",
       "<p>5 rows × 29 columns</p>\n",
       "</div>"
      ],
      "text/plain": [
       "         Unnamed: 0  SRC_ADD  DES_ADD    PKT_ID  FROM_NODE  TO_NODE PKT_TYPE  \\\n",
       "1392162     1392162    13.00    24.13  153699.0       13.0     22.0   b'tcp'   \n",
       "594128       594128    24.12    12.00  546605.0       22.0     12.0   b'ack'   \n",
       "578455       578455    17.10    24.37  433402.0       22.0     23.0   b'cbr'   \n",
       "1598948     1598948     0.00    24.00  461501.0       21.0     23.0   b'tcp'   \n",
       "1275596     1275596    24.60     6.00   19464.0       21.0      6.0   b'ack'   \n",
       "\n",
       "         PKT_SIZE       FLAGS   FID  ...    PKT_RATE  BYTE_RATE  PKT_AVG_SIZE  \\\n",
       "1392162    1540.0  b'-------'  14.0  ...  328.460131   505828.0        1540.0   \n",
       "594128       55.0  b'-------'  13.0  ...  328.491596    18067.0          55.0   \n",
       "578455     1000.0  b'-------'  38.0  ...  124.941427   124941.0        1000.0   \n",
       "1598948    1540.0  b'-------'   1.0  ...  328.316229   505606.0        1540.0   \n",
       "1275596      55.0  b'-------'   7.0  ...  328.193090    18050.6          55.0   \n",
       "\n",
       "        UTILIZATION PKT_DELAY  PKT_SEND_TIME  PKT_RESEVED_TIME  \\\n",
       "1392162    0.236498  0.000000      15.683490         15.713859   \n",
       "594128     0.008446  0.000000      47.554472         47.584482   \n",
       "578455     0.059605  0.001280      38.872000         38.903520   \n",
       "1598948    0.236321  0.000123      41.027403         41.057896   \n",
       "1275596    0.008440  0.000000       3.041742          3.071752   \n",
       "\n",
       "         FIRST_PKT_SENT  LAST_PKT_RESEVED  PKT_CLASS  \n",
       "1392162        1.000000         50.025737  b'Normal'  \n",
       "594128         1.030026         50.051067  b'Normal'  \n",
       "578455        25.000000         75.023440  b'Normal'  \n",
       "1598948        1.000000         50.010675  b'Normal'  \n",
       "1275596        1.030048         50.059112  b'Normal'  \n",
       "\n",
       "[5 rows x 29 columns]"
      ]
     },
     "execution_count": 13,
     "metadata": {},
     "output_type": "execute_result"
    }
   ],
   "source": [
    "x_sample.head()"
   ]
  },
  {
   "cell_type": "code",
   "execution_count": 14,
   "metadata": {},
   "outputs": [
    {
     "data": {
      "text/plain": [
       "Unnamed: 0          0\n",
       "SRC_ADD             0\n",
       "DES_ADD             0\n",
       "PKT_ID              0\n",
       "FROM_NODE           0\n",
       "TO_NODE             0\n",
       "PKT_TYPE            0\n",
       "PKT_SIZE            0\n",
       "FLAGS               0\n",
       "FID                 0\n",
       "SEQ_NUMBER          0\n",
       "NUMBER_OF_PKT       0\n",
       "NUMBER_OF_BYTE      0\n",
       "NODE_NAME_FROM      0\n",
       "NODE_NAME_TO        0\n",
       "PKT_IN              0\n",
       "PKT_OUT             0\n",
       "PKT_R               0\n",
       "PKT_DELAY_NODE      0\n",
       "PKT_RATE            0\n",
       "BYTE_RATE           0\n",
       "PKT_AVG_SIZE        0\n",
       "UTILIZATION         0\n",
       "PKT_DELAY           0\n",
       "PKT_SEND_TIME       0\n",
       "PKT_RESEVED_TIME    0\n",
       "FIRST_PKT_SENT      0\n",
       "LAST_PKT_RESEVED    0\n",
       "PKT_CLASS           0\n",
       "dtype: int64"
      ]
     },
     "execution_count": 14,
     "metadata": {},
     "output_type": "execute_result"
    }
   ],
   "source": [
    "x_sample.isnull().sum()"
   ]
  },
  {
   "cell_type": "code",
   "execution_count": 15,
   "metadata": {},
   "outputs": [],
   "source": [
    "x_sample=x_sample.replace(\"b'Normal'\",0)\n",
    "x_sample=x_sample.replace(\"b'HTTP-FLOOD'\",1)"
   ]
  },
  {
   "cell_type": "code",
   "execution_count": 16,
   "metadata": {},
   "outputs": [],
   "source": [
    "x_sample.drop('FLAGS',axis=1,inplace=True)"
   ]
  },
  {
   "cell_type": "code",
   "execution_count": 17,
   "metadata": {},
   "outputs": [],
   "source": [
    "x_sample.drop('NODE_NAME_FROM',axis=1,inplace=True)"
   ]
  },
  {
   "cell_type": "code",
   "execution_count": 18,
   "metadata": {},
   "outputs": [],
   "source": [
    "x_sample.drop('NODE_NAME_TO',axis=1,inplace=True)"
   ]
  },
  {
   "cell_type": "code",
   "execution_count": 19,
   "metadata": {},
   "outputs": [],
   "source": [
    "x_sample.drop('SRC_ADD',axis=1,inplace=True)\n",
    "x_sample.drop('DES_ADD',axis=1,inplace=True)"
   ]
  },
  {
   "cell_type": "code",
   "execution_count": 20,
   "metadata": {},
   "outputs": [],
   "source": [
    "x_sample.drop('PKT_TYPE',axis=1,inplace=True)"
   ]
  },
  {
   "cell_type": "code",
   "execution_count": 21,
   "metadata": {},
   "outputs": [],
   "source": [
    "x_sample.drop('Unnamed: 0',axis=1,inplace=True)"
   ]
  },
  {
   "cell_type": "code",
   "execution_count": 22,
   "metadata": {},
   "outputs": [],
   "source": [
    "x_sample.drop('FID',axis=1,inplace=True)"
   ]
  },
  {
   "cell_type": "code",
   "execution_count": 23,
   "metadata": {},
   "outputs": [
    {
     "data": {
      "text/plain": [
       "(8220, 21)"
      ]
     },
     "execution_count": 23,
     "metadata": {},
     "output_type": "execute_result"
    }
   ],
   "source": [
    "x_sample.shape"
   ]
  },
  {
   "cell_type": "code",
   "execution_count": 24,
   "metadata": {},
   "outputs": [
    {
     "data": {
      "text/html": [
       "<div>\n",
       "<style scoped>\n",
       "    .dataframe tbody tr th:only-of-type {\n",
       "        vertical-align: middle;\n",
       "    }\n",
       "\n",
       "    .dataframe tbody tr th {\n",
       "        vertical-align: top;\n",
       "    }\n",
       "\n",
       "    .dataframe thead th {\n",
       "        text-align: right;\n",
       "    }\n",
       "</style>\n",
       "<table border=\"1\" class=\"dataframe\">\n",
       "  <thead>\n",
       "    <tr style=\"text-align: right;\">\n",
       "      <th></th>\n",
       "      <th>NUMBER_OF_PKT</th>\n",
       "      <th>UTILIZATION</th>\n",
       "      <th>PKT_IN</th>\n",
       "      <th>PKT_OUT</th>\n",
       "      <th>PKT_CLASS</th>\n",
       "    </tr>\n",
       "  </thead>\n",
       "  <tbody>\n",
       "    <tr>\n",
       "      <th>2</th>\n",
       "      <td>16092.0</td>\n",
       "      <td>0.008441</td>\n",
       "      <td>7.049955</td>\n",
       "      <td>7.049955</td>\n",
       "      <td>b'UDP-Flood'</td>\n",
       "    </tr>\n",
       "    <tr>\n",
       "      <th>10</th>\n",
       "      <td>9108.0</td>\n",
       "      <td>0.130291</td>\n",
       "      <td>32.180177</td>\n",
       "      <td>32.181257</td>\n",
       "      <td>b'UDP-Flood'</td>\n",
       "    </tr>\n",
       "    <tr>\n",
       "      <th>17</th>\n",
       "      <td>16091.0</td>\n",
       "      <td>0.008440</td>\n",
       "      <td>2.524349</td>\n",
       "      <td>2.524349</td>\n",
       "      <td>b'Smurf'</td>\n",
       "    </tr>\n",
       "    <tr>\n",
       "      <th>19</th>\n",
       "      <td>210.0</td>\n",
       "      <td>0.131248</td>\n",
       "      <td>44.000000</td>\n",
       "      <td>44.000000</td>\n",
       "      <td>b'Smurf'</td>\n",
       "    </tr>\n",
       "    <tr>\n",
       "      <th>24</th>\n",
       "      <td>16103.0</td>\n",
       "      <td>0.236498</td>\n",
       "      <td>18.774430</td>\n",
       "      <td>18.774430</td>\n",
       "      <td>b'UDP-Flood'</td>\n",
       "    </tr>\n",
       "    <tr>\n",
       "      <th>...</th>\n",
       "      <td>...</td>\n",
       "      <td>...</td>\n",
       "      <td>...</td>\n",
       "      <td>...</td>\n",
       "      <td>...</td>\n",
       "    </tr>\n",
       "    <tr>\n",
       "      <th>2160632</th>\n",
       "      <td>16091.0</td>\n",
       "      <td>0.236321</td>\n",
       "      <td>38.367152</td>\n",
       "      <td>38.368629</td>\n",
       "      <td>b'UDP-Flood'</td>\n",
       "    </tr>\n",
       "    <tr>\n",
       "      <th>2160635</th>\n",
       "      <td>8655.0</td>\n",
       "      <td>0.123811</td>\n",
       "      <td>21.954817</td>\n",
       "      <td>21.955537</td>\n",
       "      <td>b'UDP-Flood'</td>\n",
       "    </tr>\n",
       "    <tr>\n",
       "      <th>2160639</th>\n",
       "      <td>9108.0</td>\n",
       "      <td>0.130291</td>\n",
       "      <td>44.907994</td>\n",
       "      <td>44.910034</td>\n",
       "      <td>b'UDP-Flood'</td>\n",
       "    </tr>\n",
       "    <tr>\n",
       "      <th>2160640</th>\n",
       "      <td>9108.0</td>\n",
       "      <td>0.130291</td>\n",
       "      <td>58.344000</td>\n",
       "      <td>58.344120</td>\n",
       "      <td>b'UDP-Flood'</td>\n",
       "    </tr>\n",
       "    <tr>\n",
       "      <th>2160646</th>\n",
       "      <td>16092.0</td>\n",
       "      <td>0.008441</td>\n",
       "      <td>49.438394</td>\n",
       "      <td>49.438394</td>\n",
       "      <td>b'UDP-Flood'</td>\n",
       "    </tr>\n",
       "  </tbody>\n",
       "</table>\n",
       "<p>224709 rows × 5 columns</p>\n",
       "</div>"
      ],
      "text/plain": [
       "         NUMBER_OF_PKT  UTILIZATION     PKT_IN    PKT_OUT     PKT_CLASS\n",
       "2              16092.0     0.008441   7.049955   7.049955  b'UDP-Flood'\n",
       "10              9108.0     0.130291  32.180177  32.181257  b'UDP-Flood'\n",
       "17             16091.0     0.008440   2.524349   2.524349      b'Smurf'\n",
       "19               210.0     0.131248  44.000000  44.000000      b'Smurf'\n",
       "24             16103.0     0.236498  18.774430  18.774430  b'UDP-Flood'\n",
       "...                ...          ...        ...        ...           ...\n",
       "2160632        16091.0     0.236321  38.367152  38.368629  b'UDP-Flood'\n",
       "2160635         8655.0     0.123811  21.954817  21.955537  b'UDP-Flood'\n",
       "2160639         9108.0     0.130291  44.907994  44.910034  b'UDP-Flood'\n",
       "2160640         9108.0     0.130291  58.344000  58.344120  b'UDP-Flood'\n",
       "2160646        16092.0     0.008441  49.438394  49.438394  b'UDP-Flood'\n",
       "\n",
       "[224709 rows x 5 columns]"
      ]
     },
     "execution_count": 24,
     "metadata": {},
     "output_type": "execute_result"
    }
   ],
   "source": [
    "df[['NUMBER_OF_PKT','UTILIZATION','PKT_IN','PKT_OUT','PKT_CLASS']][df.PKT_CLASS!=\"b'Normal'\"]"
   ]
  },
  {
   "cell_type": "code",
   "execution_count": 26,
   "metadata": {},
   "outputs": [
    {
     "data": {
      "text/html": [
       "<div>\n",
       "<style scoped>\n",
       "    .dataframe tbody tr th:only-of-type {\n",
       "        vertical-align: middle;\n",
       "    }\n",
       "\n",
       "    .dataframe tbody tr th {\n",
       "        vertical-align: top;\n",
       "    }\n",
       "\n",
       "    .dataframe thead th {\n",
       "        text-align: right;\n",
       "    }\n",
       "</style>\n",
       "<table border=\"1\" class=\"dataframe\">\n",
       "  <thead>\n",
       "    <tr style=\"text-align: right;\">\n",
       "      <th></th>\n",
       "      <th>NUMBER_OF_PKT</th>\n",
       "      <th>UTILIZATION</th>\n",
       "      <th>PKT_IN</th>\n",
       "      <th>PKT_OUT</th>\n",
       "      <th>PKT_CLASS</th>\n",
       "    </tr>\n",
       "  </thead>\n",
       "  <tbody>\n",
       "    <tr>\n",
       "      <th>0</th>\n",
       "      <td>16091.0</td>\n",
       "      <td>0.236321</td>\n",
       "      <td>35.529786</td>\n",
       "      <td>35.529786</td>\n",
       "      <td>b'Normal'</td>\n",
       "    </tr>\n",
       "    <tr>\n",
       "      <th>1</th>\n",
       "      <td>16092.0</td>\n",
       "      <td>0.236337</td>\n",
       "      <td>20.176725</td>\n",
       "      <td>20.176725</td>\n",
       "      <td>b'Normal'</td>\n",
       "    </tr>\n",
       "    <tr>\n",
       "      <th>3</th>\n",
       "      <td>16085.0</td>\n",
       "      <td>0.008437</td>\n",
       "      <td>39.627970</td>\n",
       "      <td>39.627970</td>\n",
       "      <td>b'Normal'</td>\n",
       "    </tr>\n",
       "    <tr>\n",
       "      <th>4</th>\n",
       "      <td>16088.0</td>\n",
       "      <td>0.008438</td>\n",
       "      <td>16.039806</td>\n",
       "      <td>16.039806</td>\n",
       "      <td>b'Normal'</td>\n",
       "    </tr>\n",
       "    <tr>\n",
       "      <th>5</th>\n",
       "      <td>16091.0</td>\n",
       "      <td>0.008440</td>\n",
       "      <td>21.885768</td>\n",
       "      <td>21.885768</td>\n",
       "      <td>b'Normal'</td>\n",
       "    </tr>\n",
       "    <tr>\n",
       "      <th>...</th>\n",
       "      <td>...</td>\n",
       "      <td>...</td>\n",
       "      <td>...</td>\n",
       "      <td>...</td>\n",
       "      <td>...</td>\n",
       "    </tr>\n",
       "    <tr>\n",
       "      <th>2160663</th>\n",
       "      <td>16103.0</td>\n",
       "      <td>0.008446</td>\n",
       "      <td>5.295040</td>\n",
       "      <td>5.295040</td>\n",
       "      <td>b'Normal'</td>\n",
       "    </tr>\n",
       "    <tr>\n",
       "      <th>2160664</th>\n",
       "      <td>16103.0</td>\n",
       "      <td>0.008446</td>\n",
       "      <td>34.508649</td>\n",
       "      <td>34.508649</td>\n",
       "      <td>b'Normal'</td>\n",
       "    </tr>\n",
       "    <tr>\n",
       "      <th>2160665</th>\n",
       "      <td>16091.0</td>\n",
       "      <td>0.236321</td>\n",
       "      <td>14.418011</td>\n",
       "      <td>14.418011</td>\n",
       "      <td>b'Normal'</td>\n",
       "    </tr>\n",
       "    <tr>\n",
       "      <th>2160666</th>\n",
       "      <td>16091.0</td>\n",
       "      <td>0.236321</td>\n",
       "      <td>3.732227</td>\n",
       "      <td>3.732227</td>\n",
       "      <td>b'Normal'</td>\n",
       "    </tr>\n",
       "    <tr>\n",
       "      <th>2160667</th>\n",
       "      <td>16092.0</td>\n",
       "      <td>0.236337</td>\n",
       "      <td>47.792490</td>\n",
       "      <td>47.792490</td>\n",
       "      <td>b'Normal'</td>\n",
       "    </tr>\n",
       "  </tbody>\n",
       "</table>\n",
       "<p>1935959 rows × 5 columns</p>\n",
       "</div>"
      ],
      "text/plain": [
       "         NUMBER_OF_PKT  UTILIZATION     PKT_IN    PKT_OUT  PKT_CLASS\n",
       "0              16091.0     0.236321  35.529786  35.529786  b'Normal'\n",
       "1              16092.0     0.236337  20.176725  20.176725  b'Normal'\n",
       "3              16085.0     0.008437  39.627970  39.627970  b'Normal'\n",
       "4              16088.0     0.008438  16.039806  16.039806  b'Normal'\n",
       "5              16091.0     0.008440  21.885768  21.885768  b'Normal'\n",
       "...                ...          ...        ...        ...        ...\n",
       "2160663        16103.0     0.008446   5.295040   5.295040  b'Normal'\n",
       "2160664        16103.0     0.008446  34.508649  34.508649  b'Normal'\n",
       "2160665        16091.0     0.236321  14.418011  14.418011  b'Normal'\n",
       "2160666        16091.0     0.236321   3.732227   3.732227  b'Normal'\n",
       "2160667        16092.0     0.236337  47.792490  47.792490  b'Normal'\n",
       "\n",
       "[1935959 rows x 5 columns]"
      ]
     },
     "execution_count": 26,
     "metadata": {},
     "output_type": "execute_result"
    }
   ],
   "source": [
    "df[['NUMBER_OF_PKT','UTILIZATION','PKT_IN','PKT_OUT','PKT_CLASS']][df.PKT_CLASS==\"b'Normal'\"]"
   ]
  },
  {
   "cell_type": "code",
   "execution_count": 27,
   "metadata": {},
   "outputs": [
    {
     "data": {
      "text/plain": [
       "20"
      ]
     },
     "execution_count": 27,
     "metadata": {},
     "output_type": "execute_result"
    }
   ],
   "source": [
    "features=['PKT_ID', 'FROM_NODE', 'TO_NODE',\n",
    "       'PKT_SIZE', 'SEQ_NUMBER', 'NUMBER_OF_PKT',\n",
    "       'NUMBER_OF_BYTE', 'PKT_IN', 'PKT_OUT',\n",
    "       'PKT_R', 'PKT_DELAY_NODE', 'PKT_RATE', 'BYTE_RATE', 'PKT_AVG_SIZE',\n",
    "       'UTILIZATION', 'PKT_DELAY', 'PKT_SEND_TIME', 'PKT_RESEVED_TIME',\n",
    "       'FIRST_PKT_SENT', 'LAST_PKT_RESEVED']\n",
    "len(features)"
   ]
  },
  {
   "cell_type": "code",
   "execution_count": 28,
   "metadata": {},
   "outputs": [],
   "source": [
    "from sklearn.ensemble import RandomForestClassifier"
   ]
  },
  {
   "cell_type": "code",
   "execution_count": 29,
   "metadata": {},
   "outputs": [],
   "source": [
    "X=x_sample.iloc[:,:-1].values\n",
    "Y=x_sample.iloc[:,-1].values"
   ]
  },
  {
   "cell_type": "code",
   "execution_count": 30,
   "metadata": {},
   "outputs": [
    {
     "data": {
      "text/plain": [
       "RandomForestClassifier()"
      ]
     },
     "execution_count": 30,
     "metadata": {},
     "output_type": "execute_result"
    }
   ],
   "source": [
    "rs = RandomForestClassifier()\n",
    "rs.fit(X,Y)"
   ]
  },
  {
   "cell_type": "code",
   "execution_count": 31,
   "metadata": {},
   "outputs": [
    {
     "name": "stdout",
     "output_type": "stream",
     "text": [
      "SEQ_NUMBER          0.199345\n",
      "LAST_PKT_RESEVED    0.186343\n",
      "PKT_RATE            0.175189\n",
      "PKT_DELAY           0.132351\n",
      "NUMBER_OF_PKT       0.076498\n",
      "FIRST_PKT_SENT      0.059202\n",
      "PKT_SIZE            0.043230\n",
      "PKT_ID              0.037951\n",
      "PKT_AVG_SIZE        0.031485\n",
      "BYTE_RATE           0.027481\n",
      "NUMBER_OF_BYTE      0.010459\n",
      "UTILIZATION         0.009893\n",
      "PKT_DELAY_NODE      0.004131\n",
      "PKT_IN              0.002184\n",
      "PKT_R               0.001315\n",
      "PKT_OUT             0.000898\n",
      "FROM_NODE           0.000873\n",
      "PKT_SEND_TIME       0.000586\n",
      "PKT_RESEVED_TIME    0.000517\n",
      "TO_NODE             0.000069\n",
      "dtype: float64\n"
     ]
    }
   ],
   "source": [
    " print(pd.Series(rs.feature_importances_,index=features).sort_values(ascending=False))"
   ]
  },
  {
   "cell_type": "code",
   "execution_count": 32,
   "metadata": {},
   "outputs": [
    {
     "data": {
      "text/plain": [
       "11"
      ]
     },
     "execution_count": 32,
     "metadata": {},
     "output_type": "execute_result"
    }
   ],
   "source": [
    "features=['PKT_ID','PKT_SIZE', 'SEQ_NUMBER', 'NUMBER_OF_PKT','NUMBER_OF_BYTE', 'PKT_DELAY_NODE','PKT_RATE', 'BYTE_RATE', 'PKT_AVG_SIZE',\n",
    "       'UTILIZATION', 'PKT_DELAY']\n",
    "len(features)"
   ]
  },
  {
   "cell_type": "code",
   "execution_count": 36,
   "metadata": {},
   "outputs": [],
   "source": [
    "X=x_sample.loc[:,features]\n",
    "Y=x_sample.loc[:,['PKT_CLASS']]"
   ]
  },
  {
   "cell_type": "code",
   "execution_count": 47,
   "metadata": {},
   "outputs": [
    {
     "data": {
      "text/html": [
       "<div>\n",
       "<style scoped>\n",
       "    .dataframe tbody tr th:only-of-type {\n",
       "        vertical-align: middle;\n",
       "    }\n",
       "\n",
       "    .dataframe tbody tr th {\n",
       "        vertical-align: top;\n",
       "    }\n",
       "\n",
       "    .dataframe thead th {\n",
       "        text-align: right;\n",
       "    }\n",
       "</style>\n",
       "<table border=\"1\" class=\"dataframe\">\n",
       "  <thead>\n",
       "    <tr style=\"text-align: right;\">\n",
       "      <th></th>\n",
       "      <th>PKT_ID</th>\n",
       "      <th>PKT_SIZE</th>\n",
       "      <th>SEQ_NUMBER</th>\n",
       "      <th>NUMBER_OF_PKT</th>\n",
       "      <th>NUMBER_OF_BYTE</th>\n",
       "      <th>PKT_DELAY_NODE</th>\n",
       "      <th>PKT_RATE</th>\n",
       "      <th>BYTE_RATE</th>\n",
       "      <th>PKT_AVG_SIZE</th>\n",
       "      <th>UTILIZATION</th>\n",
       "      <th>PKT_DELAY</th>\n",
       "    </tr>\n",
       "  </thead>\n",
       "  <tbody>\n",
       "    <tr>\n",
       "      <th>1981324</th>\n",
       "      <td>65267.0</td>\n",
       "      <td>44234.0</td>\n",
       "      <td>-1.0</td>\n",
       "      <td>210.0</td>\n",
       "      <td>9289140.0</td>\n",
       "      <td>0.005243</td>\n",
       "      <td>23.188498</td>\n",
       "      <td>1.025720e+06</td>\n",
       "      <td>44234.0</td>\n",
       "      <td>0.088588</td>\n",
       "      <td>0.056214</td>\n",
       "    </tr>\n",
       "    <tr>\n",
       "      <th>1363624</th>\n",
       "      <td>23625.0</td>\n",
       "      <td>10330.0</td>\n",
       "      <td>-1.0</td>\n",
       "      <td>210.0</td>\n",
       "      <td>2169300.0</td>\n",
       "      <td>0.031457</td>\n",
       "      <td>23.041765</td>\n",
       "      <td>2.380214e+05</td>\n",
       "      <td>10330.0</td>\n",
       "      <td>0.020688</td>\n",
       "      <td>0.113885</td>\n",
       "    </tr>\n",
       "    <tr>\n",
       "      <th>559067</th>\n",
       "      <td>48284.0</td>\n",
       "      <td>54812.0</td>\n",
       "      <td>-1.0</td>\n",
       "      <td>210.0</td>\n",
       "      <td>11510520.0</td>\n",
       "      <td>0.036699</td>\n",
       "      <td>23.028518</td>\n",
       "      <td>1.262239e+06</td>\n",
       "      <td>54812.0</td>\n",
       "      <td>0.109773</td>\n",
       "      <td>0.119128</td>\n",
       "    </tr>\n",
       "    <tr>\n",
       "      <th>454163</th>\n",
       "      <td>5369.0</td>\n",
       "      <td>24553.0</td>\n",
       "      <td>-1.0</td>\n",
       "      <td>210.0</td>\n",
       "      <td>5156130.0</td>\n",
       "      <td>0.020971</td>\n",
       "      <td>23.121571</td>\n",
       "      <td>5.677039e+05</td>\n",
       "      <td>24553.0</td>\n",
       "      <td>0.049173</td>\n",
       "      <td>0.082428</td>\n",
       "    </tr>\n",
       "    <tr>\n",
       "      <th>1162115</th>\n",
       "      <td>35398.0</td>\n",
       "      <td>49257.0</td>\n",
       "      <td>-1.0</td>\n",
       "      <td>210.0</td>\n",
       "      <td>10343970.0</td>\n",
       "      <td>0.000000</td>\n",
       "      <td>22.967447</td>\n",
       "      <td>1.131308e+06</td>\n",
       "      <td>49257.0</td>\n",
       "      <td>0.098648</td>\n",
       "      <td>0.142080</td>\n",
       "    </tr>\n",
       "  </tbody>\n",
       "</table>\n",
       "</div>"
      ],
      "text/plain": [
       "          PKT_ID  PKT_SIZE  SEQ_NUMBER  NUMBER_OF_PKT  NUMBER_OF_BYTE  \\\n",
       "1981324  65267.0   44234.0        -1.0          210.0       9289140.0   \n",
       "1363624  23625.0   10330.0        -1.0          210.0       2169300.0   \n",
       "559067   48284.0   54812.0        -1.0          210.0      11510520.0   \n",
       "454163    5369.0   24553.0        -1.0          210.0       5156130.0   \n",
       "1162115  35398.0   49257.0        -1.0          210.0      10343970.0   \n",
       "\n",
       "         PKT_DELAY_NODE   PKT_RATE     BYTE_RATE  PKT_AVG_SIZE  UTILIZATION  \\\n",
       "1981324        0.005243  23.188498  1.025720e+06       44234.0     0.088588   \n",
       "1363624        0.031457  23.041765  2.380214e+05       10330.0     0.020688   \n",
       "559067         0.036699  23.028518  1.262239e+06       54812.0     0.109773   \n",
       "454163         0.020971  23.121571  5.677039e+05       24553.0     0.049173   \n",
       "1162115        0.000000  22.967447  1.131308e+06       49257.0     0.098648   \n",
       "\n",
       "         PKT_DELAY  \n",
       "1981324   0.056214  \n",
       "1363624   0.113885  \n",
       "559067    0.119128  \n",
       "454163    0.082428  \n",
       "1162115   0.142080  "
      ]
     },
     "execution_count": 47,
     "metadata": {},
     "output_type": "execute_result"
    }
   ],
   "source": [
    "X.tail()"
   ]
  },
  {
   "cell_type": "code",
   "execution_count": 37,
   "metadata": {},
   "outputs": [
    {
     "name": "stdout",
     "output_type": "stream",
     "text": [
      "Index(['PKT_ID', 'PKT_SIZE', 'SEQ_NUMBER', 'NUMBER_OF_PKT', 'NUMBER_OF_BYTE',\n",
      "       'PKT_DELAY_NODE', 'PKT_RATE', 'BYTE_RATE', 'PKT_AVG_SIZE',\n",
      "       'UTILIZATION', 'PKT_DELAY'],\n",
      "      dtype='object')\n",
      "Index(['PKT_CLASS'], dtype='object')\n"
     ]
    }
   ],
   "source": [
    "print(X.columns)\n",
    "print(Y.columns)"
   ]
  },
  {
   "cell_type": "code",
   "execution_count": 38,
   "metadata": {},
   "outputs": [
    {
     "name": "stderr",
     "output_type": "stream",
     "text": [
      "<ipython-input-38-9537a84ca167>:2: DataConversionWarning: A column-vector y was passed when a 1d array was expected. Please change the shape of y to (n_samples,), for example using ravel().\n",
      "  rs.fit(X,Y)\n"
     ]
    },
    {
     "name": "stdout",
     "output_type": "stream",
     "text": [
      "PKT_RATE          0.349828\n",
      "SEQ_NUMBER        0.221730\n",
      "PKT_DELAY         0.171629\n",
      "PKT_SIZE          0.087979\n",
      "NUMBER_OF_PKT     0.071546\n",
      "PKT_AVG_SIZE      0.061279\n",
      "BYTE_RATE         0.014073\n",
      "NUMBER_OF_BYTE    0.008830\n",
      "PKT_ID            0.008089\n",
      "UTILIZATION       0.004765\n",
      "PKT_DELAY_NODE    0.000252\n",
      "dtype: float64\n"
     ]
    }
   ],
   "source": [
    "rs = RandomForestClassifier()\n",
    "rs.fit(X,Y)\n",
    "print(pd.Series(rs.feature_importances_,index=features).sort_values(ascending=False))"
   ]
  },
  {
   "cell_type": "code",
   "execution_count": 39,
   "metadata": {},
   "outputs": [],
   "source": [
    "from sklearn.model_selection import train_test_split\n",
    "x_train,x_test,y_train,y_test = train_test_split(X,Y,random_state=42,test_size=0.3)"
   ]
  },
  {
   "cell_type": "code",
   "execution_count": 40,
   "metadata": {},
   "outputs": [],
   "source": [
    "from sklearn.neighbors import KNeighborsClassifier"
   ]
  },
  {
   "cell_type": "code",
   "execution_count": 41,
   "metadata": {},
   "outputs": [],
   "source": [
    "model = KNeighborsClassifier()"
   ]
  },
  {
   "cell_type": "code",
   "execution_count": 42,
   "metadata": {},
   "outputs": [
    {
     "name": "stderr",
     "output_type": "stream",
     "text": [
      "<ipython-input-42-4719cf73997a>:1: DataConversionWarning: A column-vector y was passed when a 1d array was expected. Please change the shape of y to (n_samples, ), for example using ravel().\n",
      "  model.fit(x_train,y_train)\n"
     ]
    },
    {
     "data": {
      "text/plain": [
       "KNeighborsClassifier()"
      ]
     },
     "execution_count": 42,
     "metadata": {},
     "output_type": "execute_result"
    }
   ],
   "source": [
    "model.fit(x_train,y_train)"
   ]
  },
  {
   "cell_type": "code",
   "execution_count": 43,
   "metadata": {},
   "outputs": [],
   "source": [
    "y_pred=model.predict(x_test)"
   ]
  },
  {
   "cell_type": "code",
   "execution_count": 44,
   "metadata": {},
   "outputs": [],
   "source": [
    "from sklearn.metrics import accuracy_score"
   ]
  },
  {
   "cell_type": "code",
   "execution_count": 45,
   "metadata": {},
   "outputs": [
    {
     "name": "stdout",
     "output_type": "stream",
     "text": [
      "99.7566909975669\n"
     ]
    }
   ],
   "source": [
    "score=accuracy_score(y_test,y_pred)*100\n",
    "print(score)"
   ]
  },
  {
   "cell_type": "code",
   "execution_count": null,
   "metadata": {},
   "outputs": [],
   "source": []
  }
 ],
 "metadata": {
  "kernelspec": {
   "display_name": "Python 3",
   "language": "python",
   "name": "python3"
  },
  "language_info": {
   "codemirror_mode": {
    "name": "ipython",
    "version": 3
   },
   "file_extension": ".py",
   "mimetype": "text/x-python",
   "name": "python",
   "nbconvert_exporter": "python",
   "pygments_lexer": "ipython3",
   "version": "3.8.5"
  }
 },
 "nbformat": 4,
 "nbformat_minor": 4
}
